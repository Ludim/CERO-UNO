{
 "cells": [
  {
   "cell_type": "markdown",
   "metadata": {},
   "source": [
    "# Instalación de Anaconda\n",
    "\n",
    "## ¿Qué es Anaconda?\n",
    "\n",
    "Anacoda es un distribución libre y abierta de los lenguajes Python y R, utilizada en ciencia de datos, y aprendizaje automático (machine learning). Actualmente es utilizada por 6 millones de usuarios e incluye más de 250 paquetes de ciencia de datos válidos para Windows, Linux y MacOS.\n",
    "\n",
    "## Instalación\n",
    "\n",
    "- Descargar el instalador para la versión de Python 3 desde https://www.anaconda.com/distribution/#download-section y seguir sus instrucciones. \n",
    "\n",
    "Para más información:\n",
    "http://conda.pydata.org/docs/install/full.html\n",
    "\n",
    "## Comenzando con Conda\n",
    "\n",
    "\n",
    "#### MacOs y Linux\n",
    "\n",
    "Abrir una ventana de la terminal propia del sistema operativo. Todos los comandos serán introducidos en esta ventana. \n",
    "\n",
    "#### Windows\n",
    "\n",
    "En el menú de inicio, buscar y abrir \"Anaconda Prompt\". Todos los comandos serán introducidos en esta ventana. \n",
    "\n",
    "<b>Nota:</b> para  una referencia más completa: https://docs.conda.io/projects/conda/en/latest/user-guide/getting-started.html\n",
    "\n",
    "\n",
    "## Mantenimiento \n",
    "\n",
    "Con el fin de tener la versión de Anaconda y su sistema de administración del paquetes, conda, más reciente, al inicio debemos verificar por actualizaciones mediante los comandos:"
   ]
  },
  {
   "cell_type": "code",
   "execution_count": null,
   "metadata": {},
   "outputs": [],
   "source": [
    "conda update conda\n",
    "conda update anaconda"
   ]
  },
  {
   "cell_type": "markdown",
   "metadata": {},
   "source": [
    "## Creación del entorno para el curso\n",
    "\n",
    "Un entorno virutal (environment) es un espacio aislado con una copia de Python que mantiene sus propios archivos, librerias y directorios, de tal manera que puedas trabajar con versiones específicas de las librerias de Python sin afectar otros proyectos existentes. Ayuda a evitar problemas si se tienen diferentes dependencias y versiones de los mismos componentes.\n",
    "\n",
    "<b>Nota:</b> Es importante tratar evitar el uso de la capa base de Python, sobretodo en MacOS y Linux, ya que el sistema operativo requiere de esa capa. Una buena práctica es crear entorno por proyecto e instalar sobre ella, las librerias necesarias. \n",
    "    \n",
    "Para mayor información: http://conda.pydata.org/docs/using/envs.html    \n",
    "    \n",
    "La creación de un entorno llamado </b>curso</b> se define como: "
   ]
  },
  {
   "cell_type": "code",
   "execution_count": null,
   "metadata": {},
   "outputs": [],
   "source": [
    "conda create -n curso anaconda"
   ]
  },
  {
   "cell_type": "markdown",
   "metadata": {},
   "source": [
    "## Activación del ambiente\n",
    "\n",
    "Para usar un ambiente para trabajar sobre el, debemos activarlo mediante: "
   ]
  },
  {
   "cell_type": "code",
   "execution_count": null,
   "metadata": {},
   "outputs": [],
   "source": [
    "conda activate curso "
   ]
  },
  {
   "cell_type": "markdown",
   "metadata": {},
   "source": [
    "## Instalación de paquetes\n",
    "\n",
    "Para instalar el paquete <b>paquete</b> en un entorno, debemos activar el entorno y, ya activado instalarlo usando <i>conda<i> mediante la siguiente línea:"
   ]
  },
  {
   "cell_type": "code",
   "execution_count": null,
   "metadata": {},
   "outputs": [],
   "source": [
    "conda install paquete "
   ]
  },
  {
   "cell_type": "markdown",
   "metadata": {},
   "source": [
    "## Cheat sheet\n",
    "\n",
    "Conda nos ofrece un pdf sencillo para todas sus funciones básicas en: \n",
    "\n",
    "https://docs.conda.io/projects/conda/en/latest/user-guide/cheatsheet.html"
   ]
  },
  {
   "cell_type": "code",
   "execution_count": null,
   "metadata": {},
   "outputs": [],
   "source": []
  }
 ],
 "metadata": {
  "kernelspec": {
   "display_name": "Python 3",
   "language": "python",
   "name": "python3"
  },
  "language_info": {
   "codemirror_mode": {
    "name": "ipython",
    "version": 3
   },
   "file_extension": ".py",
   "mimetype": "text/x-python",
   "name": "python",
   "nbconvert_exporter": "python",
   "pygments_lexer": "ipython3",
   "version": "3.7.1"
  }
 },
 "nbformat": 4,
 "nbformat_minor": 2
}
