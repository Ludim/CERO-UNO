{
 "cells": [
  {
   "cell_type": "markdown",
   "metadata": {},
   "source": [
    "## ¿Qué es Jupyter Notebook?\n",
    "\n",
    "Jupyter Notebook es una aplicación web de código libre que nos permite crear y compartir documentos que contienen código vivo, ecuaciones, visualizaciones y texto. Entre sus usos podemos mencionar: limpieza y transformación de datos, simulación numérica, modelado estadístico, aprendizaje automático y mucho más.\n",
    "\n",
    "¿Por qué usaremos Jupyter Notebook para el curso? \n",
    "- Viene instalada de manera nativa en la suite de Anaconda\n",
    "- Soporta multiples lenguajes de programación como: Python, R, Julia, Octave, entre otros. \n",
    "- El manejo de libretas suele ser sencillo para documentar y presentar de manera más efectiva la información. \n",
    "- Integración con multiples herramientas para el manejo de datos como Apache y Spark.\n",
    "\n",
    "\n",
    "## Funcionamiento\n",
    "\n",
    "Jupyter Notebook funciona mediante celdas estructuradas que pueden contener texto, código vivo, imágenes, expresiones matemáticas, etc. En la barra de acciones sobre las celdas podemos cambiar el tipo de contenido de la celda con el fin de establecer la forma de compilado:\n",
    "    - Code: código vivo\n",
    "    - Markdown: edición de texto HTML\n",
    "    - Raw NBConvert: texto en formato crudo\n",
    "    - Heading: texto en título\n",
    "\n",
    "Para correr la celda en individual podemos dar clic en el icono de _correr_ en la barra de acciones o usar el atajo _shift+enter_. \n",
    "\n",
    "**Nota:** El orden en el que las celdas son ejecutadas es importante y debemos de tener cuidado con ello para que la secuencia no se pierda. \n",
    "\n",
    "## Edición de texto\n",
    "\n",
    "Jupyter utiliza Markdown, un conversor de texto a HTML para la escritura web que permite dar formato de manera sencilla al texto presentado en la libreta. Una lista de los comandos utilizados con mayor frecuencia se presenta aquí: \n",
    "- https://github.com/adam-p/markdown-here/wiki/Markdown-Here-Cheatsheet\n",
    "- https://markdown-it.github.io/\n",
    "\n",
    "Para mayor información sobre Markdown: https://daringfireball.net/projects/markdown/ \n",
    "\n",
    "#### Ejercicio rápido: \n",
    "Reproduce el texto de la siguiente celda \n"
   ]
  },
  {
   "cell_type": "markdown",
   "metadata": {},
   "source": [
    "## Fragmento de <i>\"La luz es como el agua\"</i> de G.G.M.\n",
    "___ \n",
    "La noche del **miércoles**, como todos los miércoles, los padres se fueron al cine. Los niños, dueños y señores de la casa, cerraron puertas y ventanas, y rompieron la bombilla encendida de una lámpara **de** la sala. _Un chorro de luz_ dorada y fresca como el agua empezó a salir de la *bombilla* rota, y lo dejaron correr hasta que el nivel llego a cuatro palmos."
   ]
  },
  {
   "cell_type": "markdown",
   "metadata": {},
   "source": [
    "Fragmento de \"La luz es como el agua\" de G.G.M.\n",
    "\n",
    "La noche del miércoles, como todos los miércoles, los padres se fueron al cine. Los niños, dueños y señores de la casa, cerraron puertas y ventanas, y rompieron la bombilla encendida de una lámpara de la sala. _Un chorro de luz_ dorada y fresca como el agua empezó a salir de la bombilla rota, y lo dejaron correr hasta que el nivel llego a cuatro palmos."
   ]
  },
  {
   "cell_type": "markdown",
   "metadata": {},
   "source": [
    "## Edición de texto matemático\n",
    "\n",
    "Así mismo, ya que esta destinado al manejo de simulaciones numéricas, Jupyter Notebook compila de manera nativa el ambiente matemático del lenguaje para texto científico LaTeX. Para mayor información: https://en.wikibooks.org/wiki/LaTeX/Mathematics\n",
    "\n",
    "#### Ejemplo\n",
    "\n",
    "$$ P(x, \\sigma, \\mu) = \\frac{1}{\\sigma\\sqrt{2 \\pi}}e^{-(x -\\mu)^2/2\\sigma^2}$$"
   ]
  },
  {
   "cell_type": "markdown",
   "metadata": {},
   "source": []
  }
 ],
 "metadata": {
  "kernelspec": {
   "display_name": "Python 3",
   "language": "python",
   "name": "python3"
  },
  "language_info": {
   "codemirror_mode": {
    "name": "ipython",
    "version": 3
   },
   "file_extension": ".py",
   "mimetype": "text/x-python",
   "name": "python",
   "nbconvert_exporter": "python",
   "pygments_lexer": "ipython3",
   "version": "3.7.1"
  }
 },
 "nbformat": 4,
 "nbformat_minor": 2
}
