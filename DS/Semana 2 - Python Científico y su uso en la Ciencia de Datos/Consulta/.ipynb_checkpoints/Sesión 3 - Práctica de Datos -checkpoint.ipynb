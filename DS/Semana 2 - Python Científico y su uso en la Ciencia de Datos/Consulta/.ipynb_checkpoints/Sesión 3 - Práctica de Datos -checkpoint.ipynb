{
 "cells": [
  {
   "cell_type": "markdown",
   "metadata": {
    "colab_type": "text",
    "id": "ykDBllTHJQsX"
   },
   "source": [
    "# ¡Bienvenidos a la última sesión de la semana 2 del Mastery Data Science!\n",
    "\n",
    "## *Sesión de retos*\n",
    "\n",
    "### Objetivo de la Sesión 3:\n",
    "\n",
    "* Repasar NumPy resolviendo algunos ejercicios.\n",
    "* Repasar Pandas resolviendo algunos ejercicios.\n",
    "* Explorar el *set* de datos de la iniciativa 3de3.\n",
    "* Elegir un reto y proponer una solución.\n",
    "* Compartir lo que lograron en este día.\n",
    "\n",
    "### *“Trabajar en equipo, divide el trabajo y multiplica los resultados”*, Anónimo.\n",
    "\n",
    "\n",
    "####Agenda\n",
    "\n",
    "9:00 a 10:00\n",
    "* Repasar NumPy resolviendo algunos ejercicios.\n",
    "* Repasar Pandas resolviendo algunos ejercicios.\n",
    "\n",
    "10:00 a 10:20\n",
    "* Ver soluciones de cada uno de los ejercicios.\n",
    "\n",
    "10:20 a 11:00\n",
    "* Explorar el *set* de datos de Titanic.\n",
    "\n",
    "11:00 a 11:20\n",
    "* Comentar resultados obtenidos de la exploración.\n",
    "\n",
    "11:20 a 12:00\n",
    "* Explorar el *set* de datos de la iniciativa 3de3.\n",
    "\n",
    "12:00 a 13:00\n",
    "* ¿Comer?\n",
    "\n",
    "13:00 - 13:20\n",
    "* Comentar resultados obtenidos de solución.\n",
    "\n",
    "13:20 a 14:20\n",
    "* Elegir un reto y proponer una solución.\n",
    "\n",
    "14:20 a 14:40\n",
    "* Presentar solución propuesta a reto.\n",
    "\n",
    "14:40 - 15:00\n",
    "* Compartir lo que lograron en este día."
   ]
  },
  {
   "cell_type": "code",
   "execution_count": 0,
   "metadata": {
    "colab": {},
    "colab_type": "code",
    "id": "l_LRDau8DwZq"
   },
   "outputs": [],
   "source": [
    "import numpy as np\n",
    "import pandas as pd"
   ]
  },
  {
   "cell_type": "markdown",
   "metadata": {
    "colab_type": "text",
    "id": "Pbp6nOk8TpYL"
   },
   "source": [
    "# 1. NumPy"
   ]
  },
  {
   "cell_type": "markdown",
   "metadata": {
    "colab_type": "text",
    "id": "QVMnYtMkfO5o"
   },
   "source": [
    "1. Muestra la versión de NumPy utilizada"
   ]
  },
  {
   "cell_type": "code",
   "execution_count": 0,
   "metadata": {
    "colab": {},
    "colab_type": "code",
    "id": "0NGnTNNBfWKA"
   },
   "outputs": [],
   "source": []
  },
  {
   "cell_type": "markdown",
   "metadata": {
    "colab_type": "text",
    "id": "ufPFrLm8fXEl"
   },
   "source": [
    "2. Crear un arreglo 1D con enteros positivos aleatorios"
   ]
  },
  {
   "cell_type": "code",
   "execution_count": 0,
   "metadata": {
    "colab": {},
    "colab_type": "code",
    "id": "tuCrDoXwe-a3"
   },
   "outputs": [],
   "source": []
  },
  {
   "cell_type": "markdown",
   "metadata": {
    "colab_type": "text",
    "id": "HT50z35DgI5Z"
   },
   "source": [
    "3. Crear un arreglo booleano"
   ]
  },
  {
   "cell_type": "code",
   "execution_count": 0,
   "metadata": {
    "colab": {},
    "colab_type": "code",
    "id": "qNpgc4PJgJZD"
   },
   "outputs": [],
   "source": []
  },
  {
   "cell_type": "markdown",
   "metadata": {
    "colab_type": "text",
    "id": "72xU-25UgQFG"
   },
   "source": [
    "4. Extraer los items que sean divisibles en 3."
   ]
  },
  {
   "cell_type": "code",
   "execution_count": 0,
   "metadata": {
    "colab": {},
    "colab_type": "code",
    "id": "Y7hzsF0qgKZf"
   },
   "outputs": [],
   "source": []
  },
  {
   "cell_type": "markdown",
   "metadata": {
    "colab_type": "text",
    "id": "UPYsCQFJgQwA"
   },
   "source": [
    "5. Convierte el arreglo booleano de 1D a 2D con tres filas (*reshape*)"
   ]
  },
  {
   "cell_type": "code",
   "execution_count": 0,
   "metadata": {
    "colab": {},
    "colab_type": "code",
    "id": "CXh7h2AQgKSX"
   },
   "outputs": [],
   "source": []
  },
  {
   "cell_type": "markdown",
   "metadata": {
    "colab_type": "text",
    "id": "rHI3QxeOhE3-"
   },
   "source": [
    "6. Obtén los items comunes entre dos arreglos"
   ]
  },
  {
   "cell_type": "code",
   "execution_count": 0,
   "metadata": {
    "colab": {},
    "colab_type": "code",
    "id": "_lKGSmSbhDcS"
   },
   "outputs": [],
   "source": []
  },
  {
   "cell_type": "markdown",
   "metadata": {
    "colab_type": "text",
    "id": "_OtNQQK2gRo7"
   },
   "source": [
    "7. Extrae los números del vector creado en el ejercicio 2 que esten a dos números de distancia del valor promedio del arreglo."
   ]
  },
  {
   "cell_type": "code",
   "execution_count": 0,
   "metadata": {
    "colab": {},
    "colab_type": "code",
    "id": "NwmOy4nCgKOr"
   },
   "outputs": [],
   "source": []
  },
  {
   "cell_type": "markdown",
   "metadata": {
    "colab_type": "text",
    "id": "gvNrTraKgSZh"
   },
   "source": [
    "8. Muestra solo 3 decimales en un vector."
   ]
  },
  {
   "cell_type": "code",
   "execution_count": 0,
   "metadata": {
    "colab": {},
    "colab_type": "code",
    "id": "1HQfRpemgKLb"
   },
   "outputs": [],
   "source": []
  },
  {
   "cell_type": "markdown",
   "metadata": {
    "colab_type": "text",
    "id": "TwNsufyigTCG"
   },
   "source": [
    "9. Crea una atriz de 3x3 con los valores del 0 a 8"
   ]
  },
  {
   "cell_type": "code",
   "execution_count": 0,
   "metadata": {
    "colab": {},
    "colab_type": "code",
    "id": "HnST7oyFgKIK"
   },
   "outputs": [],
   "source": []
  },
  {
   "cell_type": "markdown",
   "metadata": {
    "colab_type": "text",
    "id": "l9wHdeTygTTW"
   },
   "source": [
    "10. Del siguiente areglo [1,2,0,0,4,] encuentra los índices donde los elementos sean diferente a cero."
   ]
  },
  {
   "cell_type": "code",
   "execution_count": 0,
   "metadata": {
    "colab": {},
    "colab_type": "code",
    "id": "DQRdnk4UgVHK"
   },
   "outputs": [],
   "source": []
  },
  {
   "cell_type": "markdown",
   "metadata": {
    "colab_type": "text",
    "id": "xh5IJIeAgThu"
   },
   "source": [
    "11. Crea un vector aleatorio de 30 elementos y encuentra la media."
   ]
  },
  {
   "cell_type": "code",
   "execution_count": 0,
   "metadata": {
    "colab": {},
    "colab_type": "code",
    "id": "9d-XogxjB4YF"
   },
   "outputs": [],
   "source": []
  },
  {
   "cell_type": "markdown",
   "metadata": {
    "colab_type": "text",
    "id": "Wo4p6o7DB5XQ"
   },
   "source": [
    "12. Crea un arreglo 2D con 1 en los bordes y 0 dentro. Por ejemplo:\n",
    "1 1 1 1 1\n",
    "1 0 0 0 1\n",
    "1 0 0 0 1\n",
    "1 1 1 1 1"
   ]
  },
  {
   "cell_type": "code",
   "execution_count": 0,
   "metadata": {
    "colab": {},
    "colab_type": "code",
    "id": "1mY_MRl1gUcy"
   },
   "outputs": [],
   "source": []
  },
  {
   "cell_type": "markdown",
   "metadata": {
    "colab_type": "text",
    "id": "PTHTcSFUCH56"
   },
   "source": [
    "13. ¿Cuál es el resultado de la siguiente expresión?\n",
    "\n",
    "`0 * np.nan`\n",
    "\n",
    "`np.nan == np.nan`\n",
    "\n",
    "`np.inf > np.nan`\n",
    "\n",
    "`np.nan - np.nan`\n",
    "\n",
    "`np.nan in set([np.nan])`\n",
    "\n",
    "`0.3 == 3 * 0.1`"
   ]
  },
  {
   "cell_type": "code",
   "execution_count": 0,
   "metadata": {
    "colab": {},
    "colab_type": "code",
    "id": "SjbCfONzgKFX"
   },
   "outputs": [],
   "source": []
  },
  {
   "cell_type": "markdown",
   "metadata": {
    "colab_type": "text",
    "id": "_fUrAJmuCjG0"
   },
   "source": [
    "\n",
    "14. Crea una matriz de 5x5 con valores 1, 2, 3, 4 justo después de la diagonal."
   ]
  },
  {
   "cell_type": "code",
   "execution_count": 0,
   "metadata": {
    "colab": {},
    "colab_type": "code",
    "id": "N7cPSHdGgKCh"
   },
   "outputs": [],
   "source": []
  },
  {
   "cell_type": "markdown",
   "metadata": {
    "colab_type": "text",
    "id": "4YTdQAxaCwqo"
   },
   "source": [
    "15. Normaliza una matriz aleatoria de 5x5"
   ]
  },
  {
   "cell_type": "code",
   "execution_count": 0,
   "metadata": {
    "colab": {},
    "colab_type": "code",
    "id": "gsesZuXugJ_U"
   },
   "outputs": [],
   "source": []
  },
  {
   "cell_type": "markdown",
   "metadata": {
    "colab_type": "text",
    "id": "shifhibhVaGm"
   },
   "source": [
    "# 2. Pandas"
   ]
  },
  {
   "cell_type": "markdown",
   "metadata": {
    "colab_type": "text",
    "id": "KBII-ub3C83k"
   },
   "source": [
    "1. Imprime toda la información de versión de las librerias que necesita la biblioteca de pangas."
   ]
  },
  {
   "cell_type": "code",
   "execution_count": 0,
   "metadata": {
    "colab": {},
    "colab_type": "code",
    "id": "YhnQ62d0iSmO"
   },
   "outputs": [],
   "source": []
  },
  {
   "cell_type": "markdown",
   "metadata": {
    "colab_type": "text",
    "id": "Qib5ZPvRDi8_"
   },
   "source": [
    "Considera el siguiente diccionario y lista.\n",
    "\n",
    "\n",
    "```\n",
    "data = {\n",
    "     'animal': ['cat', 'cat', 'snake', 'dog', 'dog', 'cat', 'snake', 'cat', 'dog', 'dog'],\n",
    "     'age': [2.5, 3, 0.5, np.nan, 5, 2, 4.5, np.nan, 7, 3],\n",
    "     'visits': [1, 3, 2, 3, 2, 3, 1, 1, 2, 1],\n",
    "     'priority': ['yes', 'yes', 'no', 'yes', 'no', 'no', 'no', 'yes', 'no', 'no']\n",
    "}\n",
    "\n",
    "labels = ['a', 'b', 'c', 'd', 'e', 'f', 'g', 'h', 'i', 'j']\n",
    "```"
   ]
  },
  {
   "cell_type": "markdown",
   "metadata": {
    "colab_type": "text",
    "id": "ke6gyUpZNMLN"
   },
   "source": [
    "2. Crea un DataFrame con el diccionario *data* que tenga como índices los valores de la lista *labels*."
   ]
  },
  {
   "cell_type": "code",
   "execution_count": 0,
   "metadata": {
    "colab": {},
    "colab_type": "code",
    "id": "OE6nyX2VDjGi"
   },
   "outputs": [],
   "source": []
  },
  {
   "cell_type": "markdown",
   "metadata": {
    "colab_type": "text",
    "id": "mCFvk9YxDjOv"
   },
   "source": [
    "3. Muestra una descripción o información básica acerca del DataFrame y sus datos. (Pista: existe una función que lo muestra)."
   ]
  },
  {
   "cell_type": "code",
   "execution_count": 0,
   "metadata": {
    "colab": {},
    "colab_type": "code",
    "id": "7NvurAz-DjYt"
   },
   "outputs": [],
   "source": []
  },
  {
   "cell_type": "markdown",
   "metadata": {
    "colab_type": "text",
    "id": "DAD9y4NEDj4f"
   },
   "source": [
    "4. Regresa las primeras 3 filas del DataFrame"
   ]
  },
  {
   "cell_type": "code",
   "execution_count": 0,
   "metadata": {
    "colab": {},
    "colab_type": "code",
    "id": "SldIl9R_DkDG"
   },
   "outputs": [],
   "source": []
  },
  {
   "cell_type": "markdown",
   "metadata": {
    "colab_type": "text",
    "id": "s9MJp0A1DkLM"
   },
   "source": [
    "5. Cambia el nombre de las columnas por:\n",
    "\n",
    "\n",
    "*   Animal\n",
    "*   Edad\n",
    "*   Visitas\n",
    "*   Prioridad\n",
    "\n"
   ]
  },
  {
   "cell_type": "code",
   "execution_count": 0,
   "metadata": {
    "colab": {},
    "colab_type": "code",
    "id": "XWJgv7ZUDkW3"
   },
   "outputs": [],
   "source": []
  },
  {
   "cell_type": "markdown",
   "metadata": {
    "colab_type": "text",
    "id": "XWHtY3KRDkff"
   },
   "source": [
    "6. Muestra solo la columna \"animal\" and \"age\". ¿Esto es posible? Si no es posible, ¿qué debería ser?"
   ]
  },
  {
   "cell_type": "code",
   "execution_count": 0,
   "metadata": {
    "colab": {},
    "colab_type": "code",
    "id": "1ysdq3HZDkmn"
   },
   "outputs": [],
   "source": []
  },
  {
   "cell_type": "markdown",
   "metadata": {
    "colab_type": "text",
    "id": "FozTvSf8Dkvk"
   },
   "source": [
    "7. Selecciona solo las filas donde el número de visitas sea mayor que 3."
   ]
  },
  {
   "cell_type": "code",
   "execution_count": 0,
   "metadata": {
    "colab": {},
    "colab_type": "code",
    "id": "RUfabyzfDk2m"
   },
   "outputs": [],
   "source": []
  },
  {
   "cell_type": "markdown",
   "metadata": {
    "colab_type": "text",
    "id": "OqQFY4lWDk_V"
   },
   "source": [
    "8. ¿Cuáles son las filas donde la edad es NaN?"
   ]
  },
  {
   "cell_type": "code",
   "execution_count": 0,
   "metadata": {
    "colab": {},
    "colab_type": "code",
    "id": "aFj3aO35DlIN"
   },
   "outputs": [],
   "source": []
  },
  {
   "cell_type": "markdown",
   "metadata": {
    "colab_type": "text",
    "id": "mpWf6A3rDlQp"
   },
   "source": [
    "9. ¿Qué animales tienen una edad entre 2 y 4 años?"
   ]
  },
  {
   "cell_type": "code",
   "execution_count": 0,
   "metadata": {
    "colab": {},
    "colab_type": "code",
    "id": "Uoc8qyOHDlXh"
   },
   "outputs": [],
   "source": []
  },
  {
   "cell_type": "markdown",
   "metadata": {
    "colab_type": "text",
    "id": "tnrCUXWcDlgU"
   },
   "source": [
    "10. ¿Cuál es el total de todas las visitas?"
   ]
  },
  {
   "cell_type": "code",
   "execution_count": 0,
   "metadata": {
    "colab": {},
    "colab_type": "code",
    "id": "7--lmUybDloe"
   },
   "outputs": [],
   "source": []
  },
  {
   "cell_type": "markdown",
   "metadata": {
    "colab_type": "text",
    "id": "MY5iS4rRDlxw"
   },
   "source": [
    "12. Tenemos diferentes animales, ¿cuál es el número total de cada tipo de animal?"
   ]
  },
  {
   "cell_type": "code",
   "execution_count": 0,
   "metadata": {
    "colab": {},
    "colab_type": "code",
    "id": "MlVCJ6kVDl7f"
   },
   "outputs": [],
   "source": []
  },
  {
   "cell_type": "markdown",
   "metadata": {
    "colab_type": "text",
    "id": "VoCgnLRqDmDr"
   },
   "source": [
    "13. Cambia los valores de la columna Prioridad por valores booleanos, es decir:\n",
    "'yes' => True \n",
    "'no' => False"
   ]
  },
  {
   "cell_type": "code",
   "execution_count": 0,
   "metadata": {
    "colab": {},
    "colab_type": "code",
    "id": "HRC1emFMDmNv"
   },
   "outputs": [],
   "source": []
  },
  {
   "cell_type": "markdown",
   "metadata": {
    "colab_type": "text",
    "id": "qZOd6ptKDmcl"
   },
   "source": [
    "14. Ordena el DataFrame por la Edad en orden descendiente y después por la columna Visitas en orden ascendente."
   ]
  },
  {
   "cell_type": "code",
   "execution_count": 0,
   "metadata": {
    "colab": {},
    "colab_type": "code",
    "id": "VdcndP_7Dmj3"
   },
   "outputs": [],
   "source": []
  },
  {
   "cell_type": "markdown",
   "metadata": {
    "colab_type": "text",
    "id": "epccus9FDmuO"
   },
   "source": [
    "15. Para cada tipo de animal y cada número de visitas encuentra la edad promedio. \n",
    "(Pista: Si haz utilizado tablas pivotes, cada fila es un animal, cada columna es el número de visitas y los valores son la media de la edad)."
   ]
  },
  {
   "cell_type": "code",
   "execution_count": 0,
   "metadata": {
    "colab": {},
    "colab_type": "code",
    "id": "U7acJZ6BDm9k"
   },
   "outputs": [],
   "source": []
  },
  {
   "cell_type": "markdown",
   "metadata": {
    "colab_type": "text",
    "id": "5FHaQq39Ufng"
   },
   "source": [
    "# 3. Introducción a un set de datos reales Iniciativa #3de3\n",
    "\n",
    "\n",
    "Bajar el set de datos la iniciativa #3de3\n",
    "\n",
    "Descargar información de https://www.3de3.mx/datos_abiertos"
   ]
  },
  {
   "cell_type": "code",
   "execution_count": 1,
   "metadata": {
    "colab": {
     "base_uri": "https://localhost:8080/",
     "height": 1755
    },
    "colab_type": "code",
    "executionInfo": {
     "elapsed": 1319,
     "status": "ok",
     "timestamp": 1556377142680,
     "user": {
      "displayName": "Ludim Salo",
      "photoUrl": "",
      "userId": "03840773669080222351"
     },
     "user_tz": 300
    },
    "id": "vtkjAN4Wiu2l",
    "outputId": "2a51163d-4193-4afa-cc8d-06bcc2979b5c"
   },
   "outputs": [],
   "source": [
    "import requests\n",
    "import pandas as pd\n",
    "\n",
    "#declarantes_json = requests.get(\"https://3de3.mx/declarantes.json\")\n",
    "#declarantes = pd.DataFrame(declaracion.json())"
   ]
  },
  {
   "cell_type": "code",
   "execution_count": null,
   "metadata": {},
   "outputs": [],
   "source": [
    "request.get()\"\""
   ]
  },
  {
   "cell_type": "markdown",
   "metadata": {
    "colab_type": "text",
    "id": "ZsV38vU_SxpK"
   },
   "source": [
    "1. Descargar las primeras 4 páginas\n",
    "2. Agregar columna de género\n",
    "3. Agregar columna de entidad"
   ]
  },
  {
   "cell_type": "code",
   "execution_count": 0,
   "metadata": {
    "colab": {},
    "colab_type": "code",
    "id": "alXzVYy1VB5V"
   },
   "outputs": [],
   "source": [
    "# Número total funcionarios en #3de3"
   ]
  },
  {
   "cell_type": "code",
   "execution_count": 0,
   "metadata": {
    "colab": {},
    "colab_type": "code",
    "id": "gdN99c94iOxx"
   },
   "outputs": [],
   "source": [
    "# Participación en #3de3 por género"
   ]
  },
  {
   "cell_type": "code",
   "execution_count": 0,
   "metadata": {
    "colab": {},
    "colab_type": "code",
    "id": "lCPKMdvsn9Jm"
   },
   "outputs": [],
   "source": [
    "# Numero de funcionarios por partido"
   ]
  },
  {
   "cell_type": "markdown",
   "metadata": {
    "colab_type": "text",
    "id": "8cMFTOx6VcaJ"
   },
   "source": [
    "Iniciativa 3de3"
   ]
  },
  {
   "cell_type": "markdown",
   "metadata": {
    "colab_type": "text",
    "id": "nzE80mkELnSK"
   },
   "source": []
  },
  {
   "cell_type": "code",
   "execution_count": 0,
   "metadata": {
    "colab": {},
    "colab_type": "code",
    "id": "DUiOE0EZLmK2"
   },
   "outputs": [],
   "source": []
  },
  {
   "cell_type": "markdown",
   "metadata": {
    "colab_type": "text",
    "id": "c2yGANNNPmjL"
   },
   "source": [
    "# 5. Retos (opcional)\n",
    "\n",
    "- Random Walk\n",
    "\n",
    "- Game of Life\n",
    "\n",
    "- Imagenes\n",
    "\n",
    "- Texto"
   ]
  },
  {
   "cell_type": "markdown",
   "metadata": {
    "colab_type": "text",
    "id": "ru2riczOTEVY"
   },
   "source": [
    "# 6. Conclusiones\n",
    "- ¿Qué se llevan de esta semana?\n",
    "- ¿Qué áreas encontraron de oportunidad en ustedes?\n",
    "- ¿Qué les hubiera gustado ver en esta semana?"
   ]
  }
 ],
 "metadata": {
  "colab": {
   "collapsed_sections": [
    "Pbp6nOk8TpYL",
    "MQTzp5SALqGf",
    "5FHaQq39Ufng"
   ],
   "name": "Copia de Sesión 3 - Práctica de Datos.ipynb",
   "provenance": [
    {
     "file_id": "1ljAmKIoXK8UL3l3FTxBgQpM4hDVf0Irv",
     "timestamp": 1556666988185
    }
   ],
   "version": "0.3.2"
  },
  "kernelspec": {
   "display_name": "Python 3",
   "language": "python",
   "name": "python3"
  },
  "language_info": {
   "codemirror_mode": {
    "name": "ipython",
    "version": 3
   },
   "file_extension": ".py",
   "mimetype": "text/x-python",
   "name": "python",
   "nbconvert_exporter": "python",
   "pygments_lexer": "ipython3",
   "version": "3.7.1"
  }
 },
 "nbformat": 4,
 "nbformat_minor": 1
}
