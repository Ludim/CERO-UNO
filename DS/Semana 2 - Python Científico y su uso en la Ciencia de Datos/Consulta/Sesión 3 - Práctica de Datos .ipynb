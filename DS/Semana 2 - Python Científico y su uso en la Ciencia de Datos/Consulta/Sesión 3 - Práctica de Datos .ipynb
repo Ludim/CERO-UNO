{
 "cells": [
  {
   "cell_type": "markdown",
   "metadata": {
    "colab_type": "text",
    "id": "ykDBllTHJQsX"
   },
   "source": [
    "# ¡Bienvenidos a la última sesión de la semana 2 del Mastery Data Science!\n",
    "\n",
    "## *Sesión de retos*\n",
    "\n",
    "### Objetivo de la Sesión 3:\n",
    "\n",
    "* Repasar NumPy resolviendo algunos ejercicios.\n",
    "* Repasar Pandas resolviendo algunos ejercicios.\n",
    "* Explorar el *set* de datos de la iniciativa 3de3.\n",
    "* Elegir un reto y proponer una solución.\n",
    "* Compartir lo que lograron en este día.\n",
    "\n",
    "### *“Trabajar en equipo, divide el trabajo y multiplica los resultados”*, Anónimo.\n",
    "\n",
    "\n",
    "####Agenda\n",
    "\n",
    "9:00 a 10:00\n",
    "* Repasar NumPy resolviendo algunos ejercicios.\n",
    "* Repasar Pandas resolviendo algunos ejercicios.\n",
    "\n",
    "10:00 a 10:20\n",
    "* Ver soluciones de cada uno de los ejercicios.\n",
    "\n",
    "10:20 a 11:00\n",
    "* Explorar el *set* de datos de Titanic.\n",
    "\n",
    "11:00 a 11:20\n",
    "* Comentar resultados obtenidos de la exploración.\n",
    "\n",
    "11:20 a 12:00\n",
    "* Explorar el *set* de datos de la iniciativa 3de3.\n",
    "\n",
    "12:00 a 13:00\n",
    "* ¿Comer?\n",
    "\n",
    "13:00 - 13:20\n",
    "* Comentar resultados obtenidos de solución.\n",
    "\n",
    "13:20 a 14:20\n",
    "* Elegir un reto y proponer una solución.\n",
    "\n",
    "14:20 a 14:40\n",
    "* Presentar solución propuesta a reto.\n",
    "\n",
    "14:40 - 15:00\n",
    "* Compartir lo que lograron en este día."
   ]
  },
  {
   "cell_type": "code",
   "execution_count": 0,
   "metadata": {
    "colab": {},
    "colab_type": "code",
    "id": "l_LRDau8DwZq"
   },
   "outputs": [],
   "source": [
    "import numpy as np\n",
    "import pandas as pd"
   ]
  },
  {
   "cell_type": "markdown",
   "metadata": {
    "colab_type": "text",
    "id": "Pbp6nOk8TpYL"
   },
   "source": [
    "# 1. NumPy"
   ]
  },
  {
   "cell_type": "markdown",
   "metadata": {
    "colab_type": "text",
    "id": "QVMnYtMkfO5o"
   },
   "source": [
    "1. Muestra la versión de NumPy utilizada"
   ]
  },
  {
   "cell_type": "code",
   "execution_count": 0,
   "metadata": {
    "colab": {},
    "colab_type": "code",
    "id": "0NGnTNNBfWKA"
   },
   "outputs": [],
   "source": []
  },
  {
   "cell_type": "markdown",
   "metadata": {
    "colab_type": "text",
    "id": "ufPFrLm8fXEl"
   },
   "source": [
    "2. Crear un arreglo 1D con enteros positivos aleatorios"
   ]
  },
  {
   "cell_type": "code",
   "execution_count": 0,
   "metadata": {
    "colab": {},
    "colab_type": "code",
    "id": "tuCrDoXwe-a3"
   },
   "outputs": [],
   "source": []
  },
  {
   "cell_type": "markdown",
   "metadata": {
    "colab_type": "text",
    "id": "HT50z35DgI5Z"
   },
   "source": [
    "3. Crear un arreglo booleano"
   ]
  },
  {
   "cell_type": "code",
   "execution_count": 0,
   "metadata": {
    "colab": {},
    "colab_type": "code",
    "id": "qNpgc4PJgJZD"
   },
   "outputs": [],
   "source": []
  },
  {
   "cell_type": "markdown",
   "metadata": {
    "colab_type": "text",
    "id": "72xU-25UgQFG"
   },
   "source": [
    "4. Extraer los items que sean divisibles en 3."
   ]
  },
  {
   "cell_type": "code",
   "execution_count": 0,
   "metadata": {
    "colab": {},
    "colab_type": "code",
    "id": "Y7hzsF0qgKZf"
   },
   "outputs": [],
   "source": []
  },
  {
   "cell_type": "markdown",
   "metadata": {
    "colab_type": "text",
    "id": "UPYsCQFJgQwA"
   },
   "source": [
    "5. Convierte el arreglo booleano de 1D a 2D con tres filas (*reshape*)"
   ]
  },
  {
   "cell_type": "code",
   "execution_count": 0,
   "metadata": {
    "colab": {},
    "colab_type": "code",
    "id": "CXh7h2AQgKSX"
   },
   "outputs": [],
   "source": []
  },
  {
   "cell_type": "markdown",
   "metadata": {
    "colab_type": "text",
    "id": "rHI3QxeOhE3-"
   },
   "source": [
    "6. Obtén los items comunes entre dos arreglos"
   ]
  },
  {
   "cell_type": "code",
   "execution_count": 0,
   "metadata": {
    "colab": {},
    "colab_type": "code",
    "id": "_lKGSmSbhDcS"
   },
   "outputs": [],
   "source": []
  },
  {
   "cell_type": "markdown",
   "metadata": {
    "colab_type": "text",
    "id": "_OtNQQK2gRo7"
   },
   "source": [
    "7. Extrae los números del vector creado en el ejercicio 2 que esten a dos números de distancia del valor promedio del arreglo."
   ]
  },
  {
   "cell_type": "code",
   "execution_count": 0,
   "metadata": {
    "colab": {},
    "colab_type": "code",
    "id": "NwmOy4nCgKOr"
   },
   "outputs": [],
   "source": []
  },
  {
   "cell_type": "markdown",
   "metadata": {
    "colab_type": "text",
    "id": "gvNrTraKgSZh"
   },
   "source": [
    "8. Muestra solo 3 decimales en un vector."
   ]
  },
  {
   "cell_type": "code",
   "execution_count": 0,
   "metadata": {
    "colab": {},
    "colab_type": "code",
    "id": "1HQfRpemgKLb"
   },
   "outputs": [],
   "source": []
  },
  {
   "cell_type": "markdown",
   "metadata": {
    "colab_type": "text",
    "id": "TwNsufyigTCG"
   },
   "source": [
    "9. Crea una atriz de 3x3 con los valores del 0 a 8"
   ]
  },
  {
   "cell_type": "code",
   "execution_count": 0,
   "metadata": {
    "colab": {},
    "colab_type": "code",
    "id": "HnST7oyFgKIK"
   },
   "outputs": [],
   "source": []
  },
  {
   "cell_type": "markdown",
   "metadata": {
    "colab_type": "text",
    "id": "l9wHdeTygTTW"
   },
   "source": [
    "10. Del siguiente areglo [1,2,0,0,4,] encuentra los índices donde los elementos sean diferente a cero."
   ]
  },
  {
   "cell_type": "code",
   "execution_count": 0,
   "metadata": {
    "colab": {},
    "colab_type": "code",
    "id": "DQRdnk4UgVHK"
   },
   "outputs": [],
   "source": []
  },
  {
   "cell_type": "markdown",
   "metadata": {
    "colab_type": "text",
    "id": "xh5IJIeAgThu"
   },
   "source": [
    "11. Crea un vector aleatorio de 30 elementos y encuentra la media."
   ]
  },
  {
   "cell_type": "code",
   "execution_count": 0,
   "metadata": {
    "colab": {},
    "colab_type": "code",
    "id": "9d-XogxjB4YF"
   },
   "outputs": [],
   "source": []
  },
  {
   "cell_type": "markdown",
   "metadata": {
    "colab_type": "text",
    "id": "Wo4p6o7DB5XQ"
   },
   "source": [
    "12. Crea un arreglo 2D con 1 en los bordes y 0 dentro. Por ejemplo:\n",
    "1 1 1 1 1\n",
    "1 0 0 0 1\n",
    "1 0 0 0 1\n",
    "1 1 1 1 1"
   ]
  },
  {
   "cell_type": "code",
   "execution_count": 0,
   "metadata": {
    "colab": {},
    "colab_type": "code",
    "id": "1mY_MRl1gUcy"
   },
   "outputs": [],
   "source": []
  },
  {
   "cell_type": "markdown",
   "metadata": {
    "colab_type": "text",
    "id": "PTHTcSFUCH56"
   },
   "source": [
    "13. ¿Cuál es el resultado de la siguiente expresión?\n",
    "\n",
    "`0 * np.nan`\n",
    "\n",
    "`np.nan == np.nan`\n",
    "\n",
    "`np.inf > np.nan`\n",
    "\n",
    "`np.nan - np.nan`\n",
    "\n",
    "`np.nan in set([np.nan])`\n",
    "\n",
    "`0.3 == 3 * 0.1`"
   ]
  },
  {
   "cell_type": "code",
   "execution_count": 0,
   "metadata": {
    "colab": {},
    "colab_type": "code",
    "id": "SjbCfONzgKFX"
   },
   "outputs": [],
   "source": []
  },
  {
   "cell_type": "markdown",
   "metadata": {
    "colab_type": "text",
    "id": "_fUrAJmuCjG0"
   },
   "source": [
    "\n",
    "14. Crea una matriz de 5x5 con valores 1, 2, 3, 4 justo después de la diagonal."
   ]
  },
  {
   "cell_type": "code",
   "execution_count": 0,
   "metadata": {
    "colab": {},
    "colab_type": "code",
    "id": "N7cPSHdGgKCh"
   },
   "outputs": [],
   "source": []
  },
  {
   "cell_type": "markdown",
   "metadata": {
    "colab_type": "text",
    "id": "4YTdQAxaCwqo"
   },
   "source": [
    "15. Normaliza una matriz aleatoria de 5x5"
   ]
  },
  {
   "cell_type": "code",
   "execution_count": 0,
   "metadata": {
    "colab": {},
    "colab_type": "code",
    "id": "gsesZuXugJ_U"
   },
   "outputs": [],
   "source": []
  },
  {
   "cell_type": "markdown",
   "metadata": {
    "colab_type": "text",
    "id": "shifhibhVaGm"
   },
   "source": [
    "# 2. Pandas"
   ]
  },
  {
   "cell_type": "markdown",
   "metadata": {
    "colab_type": "text",
    "id": "KBII-ub3C83k"
   },
   "source": [
    "1. Imprime toda la información de versión de las librerias que necesita la biblioteca de pangas."
   ]
  },
  {
   "cell_type": "code",
   "execution_count": 0,
   "metadata": {
    "colab": {},
    "colab_type": "code",
    "id": "YhnQ62d0iSmO"
   },
   "outputs": [],
   "source": []
  },
  {
   "cell_type": "markdown",
   "metadata": {
    "colab_type": "text",
    "id": "Qib5ZPvRDi8_"
   },
   "source": [
    "Considera el siguiente diccionario y lista.\n",
    "\n",
    "\n",
    "```\n",
    "data = {\n",
    "     'animal': ['cat', 'cat', 'snake', 'dog', 'dog', 'cat', 'snake', 'cat', 'dog', 'dog'],\n",
    "     'age': [2.5, 3, 0.5, np.nan, 5, 2, 4.5, np.nan, 7, 3],\n",
    "     'visits': [1, 3, 2, 3, 2, 3, 1, 1, 2, 1],\n",
    "     'priority': ['yes', 'yes', 'no', 'yes', 'no', 'no', 'no', 'yes', 'no', 'no']\n",
    "}\n",
    "\n",
    "labels = ['a', 'b', 'c', 'd', 'e', 'f', 'g', 'h', 'i', 'j']\n",
    "```"
   ]
  },
  {
   "cell_type": "markdown",
   "metadata": {
    "colab_type": "text",
    "id": "ke6gyUpZNMLN"
   },
   "source": [
    "2. Crea un DataFrame con el diccionario *data* que tenga como índices los valores de la lista *labels*."
   ]
  },
  {
   "cell_type": "code",
   "execution_count": 0,
   "metadata": {
    "colab": {},
    "colab_type": "code",
    "id": "OE6nyX2VDjGi"
   },
   "outputs": [],
   "source": []
  },
  {
   "cell_type": "markdown",
   "metadata": {
    "colab_type": "text",
    "id": "mCFvk9YxDjOv"
   },
   "source": [
    "3. Muestra una descripción o información básica acerca del DataFrame y sus datos. (Pista: existe una función que lo muestra)."
   ]
  },
  {
   "cell_type": "code",
   "execution_count": 0,
   "metadata": {
    "colab": {},
    "colab_type": "code",
    "id": "7NvurAz-DjYt"
   },
   "outputs": [],
   "source": []
  },
  {
   "cell_type": "markdown",
   "metadata": {
    "colab_type": "text",
    "id": "DAD9y4NEDj4f"
   },
   "source": [
    "4. Regresa las primeras 3 filas del DataFrame"
   ]
  },
  {
   "cell_type": "code",
   "execution_count": 0,
   "metadata": {
    "colab": {},
    "colab_type": "code",
    "id": "SldIl9R_DkDG"
   },
   "outputs": [],
   "source": []
  },
  {
   "cell_type": "markdown",
   "metadata": {
    "colab_type": "text",
    "id": "s9MJp0A1DkLM"
   },
   "source": [
    "5. Cambia el nombre de las columnas por:\n",
    "\n",
    "\n",
    "*   Animal\n",
    "*   Edad\n",
    "*   Visitas\n",
    "*   Prioridad\n",
    "\n"
   ]
  },
  {
   "cell_type": "code",
   "execution_count": 0,
   "metadata": {
    "colab": {},
    "colab_type": "code",
    "id": "XWJgv7ZUDkW3"
   },
   "outputs": [],
   "source": []
  },
  {
   "cell_type": "markdown",
   "metadata": {
    "colab_type": "text",
    "id": "XWHtY3KRDkff"
   },
   "source": [
    "6. Muestra solo la columna \"animal\" and \"age\". ¿Esto es posible? Si no es posible, ¿qué debería ser?"
   ]
  },
  {
   "cell_type": "code",
   "execution_count": 0,
   "metadata": {
    "colab": {},
    "colab_type": "code",
    "id": "1ysdq3HZDkmn"
   },
   "outputs": [],
   "source": []
  },
  {
   "cell_type": "markdown",
   "metadata": {
    "colab_type": "text",
    "id": "FozTvSf8Dkvk"
   },
   "source": [
    "7. Selecciona solo las filas donde el número de visitas sea mayor que 3."
   ]
  },
  {
   "cell_type": "code",
   "execution_count": 0,
   "metadata": {
    "colab": {},
    "colab_type": "code",
    "id": "RUfabyzfDk2m"
   },
   "outputs": [],
   "source": []
  },
  {
   "cell_type": "markdown",
   "metadata": {
    "colab_type": "text",
    "id": "OqQFY4lWDk_V"
   },
   "source": [
    "8. ¿Cuáles son las filas donde la edad es NaN?"
   ]
  },
  {
   "cell_type": "code",
   "execution_count": 0,
   "metadata": {
    "colab": {},
    "colab_type": "code",
    "id": "aFj3aO35DlIN"
   },
   "outputs": [],
   "source": []
  },
  {
   "cell_type": "markdown",
   "metadata": {
    "colab_type": "text",
    "id": "mpWf6A3rDlQp"
   },
   "source": [
    "9. ¿Qué animales tienen una edad entre 2 y 4 años?"
   ]
  },
  {
   "cell_type": "code",
   "execution_count": 0,
   "metadata": {
    "colab": {},
    "colab_type": "code",
    "id": "Uoc8qyOHDlXh"
   },
   "outputs": [],
   "source": []
  },
  {
   "cell_type": "markdown",
   "metadata": {
    "colab_type": "text",
    "id": "tnrCUXWcDlgU"
   },
   "source": [
    "10. ¿Cuál es el total de todas las visitas?"
   ]
  },
  {
   "cell_type": "code",
   "execution_count": 0,
   "metadata": {
    "colab": {},
    "colab_type": "code",
    "id": "7--lmUybDloe"
   },
   "outputs": [],
   "source": []
  },
  {
   "cell_type": "markdown",
   "metadata": {
    "colab_type": "text",
    "id": "MY5iS4rRDlxw"
   },
   "source": [
    "12. Tenemos diferentes animales, ¿cuál es el número total de cada tipo de animal?"
   ]
  },
  {
   "cell_type": "code",
   "execution_count": 0,
   "metadata": {
    "colab": {},
    "colab_type": "code",
    "id": "MlVCJ6kVDl7f"
   },
   "outputs": [],
   "source": []
  },
  {
   "cell_type": "markdown",
   "metadata": {
    "colab_type": "text",
    "id": "VoCgnLRqDmDr"
   },
   "source": [
    "13. Cambia los valores de la columna Prioridad por valores booleanos, es decir:\n",
    "'yes' => True \n",
    "'no' => False"
   ]
  },
  {
   "cell_type": "code",
   "execution_count": 0,
   "metadata": {
    "colab": {},
    "colab_type": "code",
    "id": "HRC1emFMDmNv"
   },
   "outputs": [],
   "source": []
  },
  {
   "cell_type": "markdown",
   "metadata": {
    "colab_type": "text",
    "id": "qZOd6ptKDmcl"
   },
   "source": [
    "14. Ordena el DataFrame por la Edad en orden descendiente y después por la columna Visitas en orden ascendente."
   ]
  },
  {
   "cell_type": "code",
   "execution_count": 0,
   "metadata": {
    "colab": {},
    "colab_type": "code",
    "id": "VdcndP_7Dmj3"
   },
   "outputs": [],
   "source": []
  },
  {
   "cell_type": "markdown",
   "metadata": {
    "colab_type": "text",
    "id": "epccus9FDmuO"
   },
   "source": [
    "15. Para cada tipo de animal y cada número de visitas encuentra la edad promedio. \n",
    "(Pista: Si haz utilizado tablas pivotes, cada fila es un animal, cada columna es el número de visitas y los valores son la media de la edad)."
   ]
  },
  {
   "cell_type": "code",
   "execution_count": 0,
   "metadata": {
    "colab": {},
    "colab_type": "code",
    "id": "U7acJZ6BDm9k"
   },
   "outputs": [],
   "source": []
  },
  {
   "cell_type": "markdown",
   "metadata": {
    "colab_type": "text",
    "id": "5FHaQq39Ufng"
   },
   "source": [
    "# 3. Introducción a un set de datos reales Iniciativa #3de3\n",
    "\n",
    "\n",
    "Bajar el set de datos la iniciativa #3de3\n",
    "\n",
    "Descargar información de https://www.3de3.mx/datos_abiertos"
   ]
  },
  {
   "cell_type": "code",
   "execution_count": 16,
   "metadata": {
    "colab": {
     "base_uri": "https://localhost:8080/",
     "height": 1755
    },
    "colab_type": "code",
    "executionInfo": {
     "elapsed": 1319,
     "status": "ok",
     "timestamp": 1556377142680,
     "user": {
      "displayName": "Ludim Salo",
      "photoUrl": "",
      "userId": "03840773669080222351"
     },
     "user_tz": 300
    },
    "id": "vtkjAN4Wiu2l",
    "outputId": "2a51163d-4193-4afa-cc8d-06bcc2979b5c"
   },
   "outputs": [
    {
     "data": {
      "text/html": [
       "<div>\n",
       "<style scoped>\n",
       "    .dataframe tbody tr th:only-of-type {\n",
       "        vertical-align: middle;\n",
       "    }\n",
       "\n",
       "    .dataframe tbody tr th {\n",
       "        vertical-align: top;\n",
       "    }\n",
       "\n",
       "    .dataframe thead th {\n",
       "        text-align: right;\n",
       "    }\n",
       "</style>\n",
       "<table border=\"1\" class=\"dataframe\">\n",
       "  <thead>\n",
       "    <tr style=\"text-align: right;\">\n",
       "      <th></th>\n",
       "      <th>first_name</th>\n",
       "      <th>fiscal</th>\n",
       "      <th>id</th>\n",
       "      <th>interests</th>\n",
       "      <th>last_name</th>\n",
       "      <th>ownership</th>\n",
       "      <th>position</th>\n",
       "      <th>twitter</th>\n",
       "    </tr>\n",
       "  </thead>\n",
       "  <tbody>\n",
       "    <tr>\n",
       "      <th>0</th>\n",
       "      <td>Martha Cecilia</td>\n",
       "      <td>{'document_link': 'https://s3-us-west-1.amazon...</td>\n",
       "      <td>4918</td>\n",
       "      <td>{'document_link': 'https://s3-us-west-1.amazon...</td>\n",
       "      <td>Márquez Alvarado</td>\n",
       "      <td>{'document_link': 'https://s3-us-west-1.amazon...</td>\n",
       "      <td>Senador</td>\n",
       "      <td>mmarthamarquez</td>\n",
       "    </tr>\n",
       "    <tr>\n",
       "      <th>1</th>\n",
       "      <td>Bertha Xóchitl</td>\n",
       "      <td>{'document_link': 'https://s3-us-west-1.amazon...</td>\n",
       "      <td>4912</td>\n",
       "      <td>{'document_link': 'https://s3-us-west-1.amazon...</td>\n",
       "      <td>Gálvez Ruíz</td>\n",
       "      <td>{'document_link': 'https://s3-us-west-1.amazon...</td>\n",
       "      <td>Senador</td>\n",
       "      <td>XochitlGalvez</td>\n",
       "    </tr>\n",
       "    <tr>\n",
       "      <th>2</th>\n",
       "      <td>Alejandra Noemí</td>\n",
       "      <td>{'document_link': 'https://s3-us-west-1.amazon...</td>\n",
       "      <td>4929</td>\n",
       "      <td>{'document_link': 'https://s3-us-west-1.amazon...</td>\n",
       "      <td>Reynoso Sánchez</td>\n",
       "      <td>{'document_link': 'https://s3-us-west-1.amazon...</td>\n",
       "      <td>Senador</td>\n",
       "      <td>WeraReynoso</td>\n",
       "    </tr>\n",
       "    <tr>\n",
       "      <th>3</th>\n",
       "      <td>Verónica</td>\n",
       "      <td>{'document_link': 'https://s3-us-west-1.amazon...</td>\n",
       "      <td>4933</td>\n",
       "      <td>{'document_link': 'https://s3-us-west-1.amazon...</td>\n",
       "      <td>Delgadillo García</td>\n",
       "      <td>{'document_link': 'https://s3-us-west-1.amazon...</td>\n",
       "      <td>Senador</td>\n",
       "      <td>VeroDelgadilloG</td>\n",
       "    </tr>\n",
       "    <tr>\n",
       "      <th>4</th>\n",
       "      <td>Mayuli Latifa</td>\n",
       "      <td>{'document_link': 'https://s3-us-west-1.amazon...</td>\n",
       "      <td>4944</td>\n",
       "      <td>{'document_link': 'https://s3-us-west-1.amazon...</td>\n",
       "      <td>Martínez Simón</td>\n",
       "      <td>{'document_link': 'https://s3-us-west-1.amazon...</td>\n",
       "      <td>Senador</td>\n",
       "      <td>MayuliMtzSimon</td>\n",
       "    </tr>\n",
       "    <tr>\n",
       "      <th>5</th>\n",
       "      <td>Minerva</td>\n",
       "      <td>{'document_link': 'https://s3-us-west-1.amazon...</td>\n",
       "      <td>4953</td>\n",
       "      <td>{'document_link': 'https://s3-us-west-1.amazon...</td>\n",
       "      <td>Hernández Ramos</td>\n",
       "      <td>{'document_link': 'https://s3-us-west-1.amazon...</td>\n",
       "      <td>Senador</td>\n",
       "      <td>MinervaHdezMX</td>\n",
       "    </tr>\n",
       "    <tr>\n",
       "      <th>6</th>\n",
       "      <td>Indira de Jesús</td>\n",
       "      <td>{'document_link': 'https://s3-us-west-1.amazon...</td>\n",
       "      <td>4909</td>\n",
       "      <td>{'document_link': 'https://s3-us-west-1.amazon...</td>\n",
       "      <td>Rosales San Román</td>\n",
       "      <td>{'document_link': 'https://s3-us-west-1.amazon...</td>\n",
       "      <td>Senador</td>\n",
       "      <td>Indira_rs</td>\n",
       "    </tr>\n",
       "    <tr>\n",
       "      <th>7</th>\n",
       "      <td>Josefina Eugenia</td>\n",
       "      <td>{'document_link': 'https://s3-us-west-1.amazon...</td>\n",
       "      <td>4907</td>\n",
       "      <td>{'document_link': 'https://s3-us-west-1.amazon...</td>\n",
       "      <td>Vázquez Mota</td>\n",
       "      <td>{'document_link': 'https://s3-us-west-1.amazon...</td>\n",
       "      <td>Senador</td>\n",
       "      <td>JosefinaVM</td>\n",
       "    </tr>\n",
       "    <tr>\n",
       "      <th>8</th>\n",
       "      <td>Martha Elisa</td>\n",
       "      <td>{'document_link': 'https://s3-us-west-1.amazon...</td>\n",
       "      <td>5055</td>\n",
       "      <td>{'document_link': 'https://s3-us-west-1.amazon...</td>\n",
       "      <td>González Estrada</td>\n",
       "      <td>{'document_link': 'https://s3-us-west-1.amazon...</td>\n",
       "      <td>Diputado federal</td>\n",
       "      <td>MarthaGlzAgs</td>\n",
       "    </tr>\n",
       "    <tr>\n",
       "      <th>9</th>\n",
       "      <td>Mónica</td>\n",
       "      <td>{'document_link': 'https://s3-us-west-1.amazon...</td>\n",
       "      <td>5072</td>\n",
       "      <td>{'document_link': 'https://s3-us-west-1.amazon...</td>\n",
       "      <td>Almeida López</td>\n",
       "      <td>{'document_link': 'https://s3-us-west-1.amazon...</td>\n",
       "      <td>Diputado federal</td>\n",
       "      <td>MonicaAlmeidalo</td>\n",
       "    </tr>\n",
       "    <tr>\n",
       "      <th>10</th>\n",
       "      <td>Ana Paola</td>\n",
       "      <td>{'document_link': 'https://s3-us-west-1.amazon...</td>\n",
       "      <td>5080</td>\n",
       "      <td>{'document_link': 'https://s3-us-west-1.amazon...</td>\n",
       "      <td>López Birlain</td>\n",
       "      <td>{'document_link': 'https://s3-us-west-1.amazon...</td>\n",
       "      <td>Diputado federal</td>\n",
       "      <td>PANqueretaro</td>\n",
       "    </tr>\n",
       "    <tr>\n",
       "      <th>11</th>\n",
       "      <td>Sonia</td>\n",
       "      <td>{'document_link': 'https://s3-us-west-1.amazon...</td>\n",
       "      <td>5078</td>\n",
       "      <td>{'document_link': 'https://s3-us-west-1.amazon...</td>\n",
       "      <td>Rocha Acosta</td>\n",
       "      <td>{'document_link': 'https://s3-us-west-1.amazon...</td>\n",
       "      <td>Diputado federal</td>\n",
       "      <td>SonRocha</td>\n",
       "    </tr>\n",
       "    <tr>\n",
       "      <th>12</th>\n",
       "      <td>Josefina</td>\n",
       "      <td>{'document_link': 'https://s3-us-west-1.amazon...</td>\n",
       "      <td>5081</td>\n",
       "      <td>{'document_link': 'https://s3-us-west-1.amazon...</td>\n",
       "      <td>Salazar Baez</td>\n",
       "      <td>{'document_link': 'https://s3-us-west-1.amazon...</td>\n",
       "      <td>Diputado federal</td>\n",
       "      <td>JosefinaSLP</td>\n",
       "    </tr>\n",
       "    <tr>\n",
       "      <th>13</th>\n",
       "      <td>Mariana Dunyaska</td>\n",
       "      <td>{'document_link': 'https://s3-us-west-1.amazon...</td>\n",
       "      <td>5084</td>\n",
       "      <td>{'document_link': 'https://s3-us-west-1.amazon...</td>\n",
       "      <td>García Rojas</td>\n",
       "      <td>{'document_link': 'https://s3-us-west-1.amazon...</td>\n",
       "      <td>Diputado federal</td>\n",
       "      <td>DunyaskaPANVer</td>\n",
       "    </tr>\n",
       "    <tr>\n",
       "      <th>14</th>\n",
       "      <td>Cecilia Anunciación</td>\n",
       "      <td>{'document_link': 'https://s3-us-west-1.amazon...</td>\n",
       "      <td>5042</td>\n",
       "      <td>{'document_link': 'https://s3-us-west-1.amazon...</td>\n",
       "      <td>Patrón Laviada</td>\n",
       "      <td>{'document_link': 'https://s3-us-west-1.amazon...</td>\n",
       "      <td>Diputado federal</td>\n",
       "      <td>ceciliapatronl</td>\n",
       "    </tr>\n",
       "    <tr>\n",
       "      <th>15</th>\n",
       "      <td>Adriana</td>\n",
       "      <td>{'document_link': 'https://s3-us-west-1.amazon...</td>\n",
       "      <td>5044</td>\n",
       "      <td>{'document_link': 'https://s3-us-west-1.amazon...</td>\n",
       "      <td>Dávila Fernández</td>\n",
       "      <td>{'document_link': 'https://s3-us-west-1.amazon...</td>\n",
       "      <td>Diputado federal</td>\n",
       "      <td>AdrianaDavilaF</td>\n",
       "    </tr>\n",
       "    <tr>\n",
       "      <th>16</th>\n",
       "      <td>Laura Angélica</td>\n",
       "      <td>{'document_link': 'https://s3-us-west-1.amazon...</td>\n",
       "      <td>5049</td>\n",
       "      <td>{'document_link': 'https://s3-us-west-1.amazon...</td>\n",
       "      <td>Rojas Hernández</td>\n",
       "      <td>{'document_link': 'https://s3-us-west-1.amazon...</td>\n",
       "      <td>Diputado federal</td>\n",
       "      <td>Laura_Rojas_</td>\n",
       "    </tr>\n",
       "    <tr>\n",
       "      <th>17</th>\n",
       "      <td>Gloria</td>\n",
       "      <td>{'document_link': 'https://s3-us-west-1.amazon...</td>\n",
       "      <td>5050</td>\n",
       "      <td>{'document_link': 'https://s3-us-west-1.amazon...</td>\n",
       "      <td>Romero León</td>\n",
       "      <td>{'document_link': 'https://s3-us-west-1.amazon...</td>\n",
       "      <td>Diputado federal</td>\n",
       "      <td>AccionNacional</td>\n",
       "    </tr>\n",
       "    <tr>\n",
       "      <th>18</th>\n",
       "      <td>Patricia</td>\n",
       "      <td>{'document_link': 'https://s3-us-west-1.amazon...</td>\n",
       "      <td>5036</td>\n",
       "      <td>{'document_link': 'https://s3-us-west-1.amazon...</td>\n",
       "      <td>Terrazas Baca</td>\n",
       "      <td>{'document_link': 'https://s3-us-west-1.amazon...</td>\n",
       "      <td>Diputado federal</td>\n",
       "      <td>AccionNacional</td>\n",
       "    </tr>\n",
       "    <tr>\n",
       "      <th>19</th>\n",
       "      <td>María Marcela</td>\n",
       "      <td>{'document_link': 'https://s3-us-west-1.amazon...</td>\n",
       "      <td>5039</td>\n",
       "      <td>{'document_link': 'https://s3-us-west-1.amazon...</td>\n",
       "      <td>Torres Peimbert</td>\n",
       "      <td>{'document_link': 'https://s3-us-west-1.amazon...</td>\n",
       "      <td>Diputado federal</td>\n",
       "      <td>Marce_Torres7</td>\n",
       "    </tr>\n",
       "    <tr>\n",
       "      <th>20</th>\n",
       "      <td>Mirna Cecilia</td>\n",
       "      <td>{'document_link': 'https://s3-us-west-1.amazon...</td>\n",
       "      <td>837</td>\n",
       "      <td>{'document_link': 'https://s3-us-west-1.amazon...</td>\n",
       "      <td>Rincón Vargas</td>\n",
       "      <td>{'document_link': 'https://s3-us-west-1.amazon...</td>\n",
       "      <td>Alcalde</td>\n",
       "      <td>MirnaRincon1</td>\n",
       "    </tr>\n",
       "    <tr>\n",
       "      <th>21</th>\n",
       "      <td>María Eugenia</td>\n",
       "      <td>{'document_link': 'https://s3-us-west-1.amazon...</td>\n",
       "      <td>6395</td>\n",
       "      <td>{'document_link': 'https://s3-us-west-1.amazon...</td>\n",
       "      <td>Campos Galván</td>\n",
       "      <td>{'document_link': 'https://s3-us-west-1.amazon...</td>\n",
       "      <td>Alcalde</td>\n",
       "      <td>MaruCampos_G</td>\n",
       "    </tr>\n",
       "    <tr>\n",
       "      <th>22</th>\n",
       "      <td>Elvira</td>\n",
       "      <td>{'document_link': 'https://s3-us-west-1.amazon...</td>\n",
       "      <td>6496</td>\n",
       "      <td>{'document_link': 'https://s3-us-west-1.amazon...</td>\n",
       "      <td>Paniagua Rodríguez</td>\n",
       "      <td>{'document_link': 'https://s3-us-west-1.amazon...</td>\n",
       "      <td>Alcalde</td>\n",
       "      <td>Elvira_PaniRod</td>\n",
       "    </tr>\n",
       "    <tr>\n",
       "      <th>23</th>\n",
       "      <td>Marina</td>\n",
       "      <td>{'document_link': 'https://s3-us-west-1.amazon...</td>\n",
       "      <td>6457</td>\n",
       "      <td>{'document_link': 'https://s3-us-west-1.amazon...</td>\n",
       "      <td>Ponce Camacho</td>\n",
       "      <td>{'document_link': 'https://s3-us-west-1.amazon...</td>\n",
       "      <td>Alcalde</td>\n",
       "      <td>PANqueretaro</td>\n",
       "    </tr>\n",
       "    <tr>\n",
       "      <th>24</th>\n",
       "      <td>Ma. Guadalupe</td>\n",
       "      <td>{'document_link': 'https://s3-us-west-1.amazon...</td>\n",
       "      <td>6458</td>\n",
       "      <td>{'document_link': 'https://s3-us-west-1.amazon...</td>\n",
       "      <td>Alcántara De Santiago</td>\n",
       "      <td>{'document_link': 'https://s3-us-west-1.amazon...</td>\n",
       "      <td>Alcalde</td>\n",
       "      <td>LSanatiago</td>\n",
       "    </tr>\n",
       "    <tr>\n",
       "      <th>25</th>\n",
       "      <td>Maki Esther</td>\n",
       "      <td>{'document_link': 'https://s3-us-west-1.amazon...</td>\n",
       "      <td>6478</td>\n",
       "      <td>{'document_link': 'https://s3-us-west-1.amazon...</td>\n",
       "      <td>Ortiz Domínguez</td>\n",
       "      <td>{'document_link': 'https://s3-us-west-1.amazon...</td>\n",
       "      <td>Alcalde</td>\n",
       "      <td>MakiOrtizD</td>\n",
       "    </tr>\n",
       "    <tr>\n",
       "      <th>26</th>\n",
       "      <td>Claudia Guadalupe</td>\n",
       "      <td>{'document_link': 'https://s3-us-west-1.amazon...</td>\n",
       "      <td>6059</td>\n",
       "      <td>{'document_link': 'https://s3-us-west-1.amazon...</td>\n",
       "      <td>De Lira Beltrán</td>\n",
       "      <td>{'document_link': 'https://s3-us-west-1.amazon...</td>\n",
       "      <td>Diputado local</td>\n",
       "      <td>Lupita_DeLira</td>\n",
       "    </tr>\n",
       "    <tr>\n",
       "      <th>27</th>\n",
       "      <td>Karina Ivette</td>\n",
       "      <td>{'document_link': 'https://s3-us-west-1.amazon...</td>\n",
       "      <td>6056</td>\n",
       "      <td>{'document_link': 'https://s3-us-west-1.amazon...</td>\n",
       "      <td>Eudave Delgado</td>\n",
       "      <td>{'document_link': 'https://s3-us-west-1.amazon...</td>\n",
       "      <td>Diputado local</td>\n",
       "      <td>karinaeudave</td>\n",
       "    </tr>\n",
       "    <tr>\n",
       "      <th>28</th>\n",
       "      <td>Paloma Cecilia</td>\n",
       "      <td>{'document_link': 'https://s3-us-west-1.amazon...</td>\n",
       "      <td>6061</td>\n",
       "      <td>{'document_link': 'https://s3-us-west-1.amazon...</td>\n",
       "      <td>Amezquita Carreón</td>\n",
       "      <td>{'document_link': 'https://s3-us-west-1.amazon...</td>\n",
       "      <td>Diputado Local</td>\n",
       "      <td>PANAGSOFICIAL</td>\n",
       "    </tr>\n",
       "    <tr>\n",
       "      <th>29</th>\n",
       "      <td>Eva María</td>\n",
       "      <td>{'document_link': 'https://s3-us-west-1.amazon...</td>\n",
       "      <td>678</td>\n",
       "      <td>{'document_link': 'https://s3-us-west-1.amazon...</td>\n",
       "      <td>Vázquez Hernández</td>\n",
       "      <td>{'document_link': 'https://s3-us-west-1.amazon...</td>\n",
       "      <td>Diputado Local</td>\n",
       "      <td>PANBCcontigo</td>\n",
       "    </tr>\n",
       "    <tr>\n",
       "      <th>30</th>\n",
       "      <td>Marisela</td>\n",
       "      <td>{'document_link': 'https://s3-us-west-1.amazon...</td>\n",
       "      <td>5582</td>\n",
       "      <td>{'document_link': 'https://s3-us-west-1.amazon...</td>\n",
       "      <td>Terrazas Muñoz</td>\n",
       "      <td>{'document_link': 'https://s3-us-west-1.amazon...</td>\n",
       "      <td>Diputado local</td>\n",
       "      <td>pan_chihuahua</td>\n",
       "    </tr>\n",
       "    <tr>\n",
       "      <th>31</th>\n",
       "      <td>Blanca Amelia</td>\n",
       "      <td>{'document_link': 'https://s3-us-west-1.amazon...</td>\n",
       "      <td>694</td>\n",
       "      <td>{'document_link': 'https://s3-us-west-1.amazon...</td>\n",
       "      <td>Gámez Gutiérrez</td>\n",
       "      <td>{'document_link': 'https://s3-us-west-1.amazon...</td>\n",
       "      <td>Diputado Local</td>\n",
       "      <td>BlancaGamezG</td>\n",
       "    </tr>\n",
       "    <tr>\n",
       "      <th>32</th>\n",
       "      <td>América Alejandra</td>\n",
       "      <td>{'document_link': 'https://s3-us-west-1.amazon...</td>\n",
       "      <td>5990</td>\n",
       "      <td>{'document_link': 'https://s3-us-west-1.amazon...</td>\n",
       "      <td>Rangel Lorenzana</td>\n",
       "      <td>{'document_link': 'https://s3-us-west-1.amazon...</td>\n",
       "      <td>Diputado local</td>\n",
       "      <td>PANDF</td>\n",
       "    </tr>\n",
       "    <tr>\n",
       "      <th>33</th>\n",
       "      <td>Libia Dennise</td>\n",
       "      <td>{'document_link': 'https://s3-us-west-1.amazon...</td>\n",
       "      <td>6193</td>\n",
       "      <td>{'document_link': 'https://s3-us-west-1.amazon...</td>\n",
       "      <td>García Muñoz Ledo</td>\n",
       "      <td>{'document_link': 'https://s3-us-west-1.amazon...</td>\n",
       "      <td>Diputado Local</td>\n",
       "      <td>libiadennise</td>\n",
       "    </tr>\n",
       "    <tr>\n",
       "      <th>34</th>\n",
       "      <td>Claudia</td>\n",
       "      <td>{'document_link': 'https://s3-us-west-1.amazon...</td>\n",
       "      <td>6575</td>\n",
       "      <td>{'document_link': 'https://s3-us-west-1.amazon...</td>\n",
       "      <td>Murguía Torres</td>\n",
       "      <td>{'document_link': 'https://s3-us-west-1.amazon...</td>\n",
       "      <td>Diputado local</td>\n",
       "      <td>ClaudiaMurguiaT</td>\n",
       "    </tr>\n",
       "  </tbody>\n",
       "</table>\n",
       "</div>"
      ],
      "text/plain": [
       "             first_name                                             fiscal  \\\n",
       "0        Martha Cecilia  {'document_link': 'https://s3-us-west-1.amazon...   \n",
       "1        Bertha Xóchitl  {'document_link': 'https://s3-us-west-1.amazon...   \n",
       "2       Alejandra Noemí  {'document_link': 'https://s3-us-west-1.amazon...   \n",
       "3              Verónica  {'document_link': 'https://s3-us-west-1.amazon...   \n",
       "4         Mayuli Latifa  {'document_link': 'https://s3-us-west-1.amazon...   \n",
       "5               Minerva  {'document_link': 'https://s3-us-west-1.amazon...   \n",
       "6       Indira de Jesús  {'document_link': 'https://s3-us-west-1.amazon...   \n",
       "7      Josefina Eugenia  {'document_link': 'https://s3-us-west-1.amazon...   \n",
       "8          Martha Elisa  {'document_link': 'https://s3-us-west-1.amazon...   \n",
       "9                Mónica  {'document_link': 'https://s3-us-west-1.amazon...   \n",
       "10            Ana Paola  {'document_link': 'https://s3-us-west-1.amazon...   \n",
       "11                Sonia  {'document_link': 'https://s3-us-west-1.amazon...   \n",
       "12             Josefina  {'document_link': 'https://s3-us-west-1.amazon...   \n",
       "13     Mariana Dunyaska  {'document_link': 'https://s3-us-west-1.amazon...   \n",
       "14  Cecilia Anunciación  {'document_link': 'https://s3-us-west-1.amazon...   \n",
       "15              Adriana  {'document_link': 'https://s3-us-west-1.amazon...   \n",
       "16       Laura Angélica  {'document_link': 'https://s3-us-west-1.amazon...   \n",
       "17               Gloria  {'document_link': 'https://s3-us-west-1.amazon...   \n",
       "18             Patricia  {'document_link': 'https://s3-us-west-1.amazon...   \n",
       "19        María Marcela  {'document_link': 'https://s3-us-west-1.amazon...   \n",
       "20        Mirna Cecilia  {'document_link': 'https://s3-us-west-1.amazon...   \n",
       "21        María Eugenia  {'document_link': 'https://s3-us-west-1.amazon...   \n",
       "22               Elvira  {'document_link': 'https://s3-us-west-1.amazon...   \n",
       "23               Marina  {'document_link': 'https://s3-us-west-1.amazon...   \n",
       "24        Ma. Guadalupe  {'document_link': 'https://s3-us-west-1.amazon...   \n",
       "25          Maki Esther  {'document_link': 'https://s3-us-west-1.amazon...   \n",
       "26    Claudia Guadalupe  {'document_link': 'https://s3-us-west-1.amazon...   \n",
       "27        Karina Ivette  {'document_link': 'https://s3-us-west-1.amazon...   \n",
       "28       Paloma Cecilia  {'document_link': 'https://s3-us-west-1.amazon...   \n",
       "29            Eva María  {'document_link': 'https://s3-us-west-1.amazon...   \n",
       "30             Marisela  {'document_link': 'https://s3-us-west-1.amazon...   \n",
       "31        Blanca Amelia  {'document_link': 'https://s3-us-west-1.amazon...   \n",
       "32    América Alejandra  {'document_link': 'https://s3-us-west-1.amazon...   \n",
       "33        Libia Dennise  {'document_link': 'https://s3-us-west-1.amazon...   \n",
       "34              Claudia  {'document_link': 'https://s3-us-west-1.amazon...   \n",
       "\n",
       "      id                                          interests  \\\n",
       "0   4918  {'document_link': 'https://s3-us-west-1.amazon...   \n",
       "1   4912  {'document_link': 'https://s3-us-west-1.amazon...   \n",
       "2   4929  {'document_link': 'https://s3-us-west-1.amazon...   \n",
       "3   4933  {'document_link': 'https://s3-us-west-1.amazon...   \n",
       "4   4944  {'document_link': 'https://s3-us-west-1.amazon...   \n",
       "5   4953  {'document_link': 'https://s3-us-west-1.amazon...   \n",
       "6   4909  {'document_link': 'https://s3-us-west-1.amazon...   \n",
       "7   4907  {'document_link': 'https://s3-us-west-1.amazon...   \n",
       "8   5055  {'document_link': 'https://s3-us-west-1.amazon...   \n",
       "9   5072  {'document_link': 'https://s3-us-west-1.amazon...   \n",
       "10  5080  {'document_link': 'https://s3-us-west-1.amazon...   \n",
       "11  5078  {'document_link': 'https://s3-us-west-1.amazon...   \n",
       "12  5081  {'document_link': 'https://s3-us-west-1.amazon...   \n",
       "13  5084  {'document_link': 'https://s3-us-west-1.amazon...   \n",
       "14  5042  {'document_link': 'https://s3-us-west-1.amazon...   \n",
       "15  5044  {'document_link': 'https://s3-us-west-1.amazon...   \n",
       "16  5049  {'document_link': 'https://s3-us-west-1.amazon...   \n",
       "17  5050  {'document_link': 'https://s3-us-west-1.amazon...   \n",
       "18  5036  {'document_link': 'https://s3-us-west-1.amazon...   \n",
       "19  5039  {'document_link': 'https://s3-us-west-1.amazon...   \n",
       "20   837  {'document_link': 'https://s3-us-west-1.amazon...   \n",
       "21  6395  {'document_link': 'https://s3-us-west-1.amazon...   \n",
       "22  6496  {'document_link': 'https://s3-us-west-1.amazon...   \n",
       "23  6457  {'document_link': 'https://s3-us-west-1.amazon...   \n",
       "24  6458  {'document_link': 'https://s3-us-west-1.amazon...   \n",
       "25  6478  {'document_link': 'https://s3-us-west-1.amazon...   \n",
       "26  6059  {'document_link': 'https://s3-us-west-1.amazon...   \n",
       "27  6056  {'document_link': 'https://s3-us-west-1.amazon...   \n",
       "28  6061  {'document_link': 'https://s3-us-west-1.amazon...   \n",
       "29   678  {'document_link': 'https://s3-us-west-1.amazon...   \n",
       "30  5582  {'document_link': 'https://s3-us-west-1.amazon...   \n",
       "31   694  {'document_link': 'https://s3-us-west-1.amazon...   \n",
       "32  5990  {'document_link': 'https://s3-us-west-1.amazon...   \n",
       "33  6193  {'document_link': 'https://s3-us-west-1.amazon...   \n",
       "34  6575  {'document_link': 'https://s3-us-west-1.amazon...   \n",
       "\n",
       "                last_name                                          ownership  \\\n",
       "0        Márquez Alvarado  {'document_link': 'https://s3-us-west-1.amazon...   \n",
       "1             Gálvez Ruíz  {'document_link': 'https://s3-us-west-1.amazon...   \n",
       "2         Reynoso Sánchez  {'document_link': 'https://s3-us-west-1.amazon...   \n",
       "3       Delgadillo García  {'document_link': 'https://s3-us-west-1.amazon...   \n",
       "4          Martínez Simón  {'document_link': 'https://s3-us-west-1.amazon...   \n",
       "5         Hernández Ramos  {'document_link': 'https://s3-us-west-1.amazon...   \n",
       "6       Rosales San Román  {'document_link': 'https://s3-us-west-1.amazon...   \n",
       "7            Vázquez Mota  {'document_link': 'https://s3-us-west-1.amazon...   \n",
       "8        González Estrada  {'document_link': 'https://s3-us-west-1.amazon...   \n",
       "9           Almeida López  {'document_link': 'https://s3-us-west-1.amazon...   \n",
       "10          López Birlain  {'document_link': 'https://s3-us-west-1.amazon...   \n",
       "11           Rocha Acosta  {'document_link': 'https://s3-us-west-1.amazon...   \n",
       "12           Salazar Baez  {'document_link': 'https://s3-us-west-1.amazon...   \n",
       "13           García Rojas  {'document_link': 'https://s3-us-west-1.amazon...   \n",
       "14         Patrón Laviada  {'document_link': 'https://s3-us-west-1.amazon...   \n",
       "15       Dávila Fernández  {'document_link': 'https://s3-us-west-1.amazon...   \n",
       "16        Rojas Hernández  {'document_link': 'https://s3-us-west-1.amazon...   \n",
       "17            Romero León  {'document_link': 'https://s3-us-west-1.amazon...   \n",
       "18          Terrazas Baca  {'document_link': 'https://s3-us-west-1.amazon...   \n",
       "19        Torres Peimbert  {'document_link': 'https://s3-us-west-1.amazon...   \n",
       "20          Rincón Vargas  {'document_link': 'https://s3-us-west-1.amazon...   \n",
       "21          Campos Galván  {'document_link': 'https://s3-us-west-1.amazon...   \n",
       "22     Paniagua Rodríguez  {'document_link': 'https://s3-us-west-1.amazon...   \n",
       "23          Ponce Camacho  {'document_link': 'https://s3-us-west-1.amazon...   \n",
       "24  Alcántara De Santiago  {'document_link': 'https://s3-us-west-1.amazon...   \n",
       "25        Ortiz Domínguez  {'document_link': 'https://s3-us-west-1.amazon...   \n",
       "26        De Lira Beltrán  {'document_link': 'https://s3-us-west-1.amazon...   \n",
       "27         Eudave Delgado  {'document_link': 'https://s3-us-west-1.amazon...   \n",
       "28      Amezquita Carreón  {'document_link': 'https://s3-us-west-1.amazon...   \n",
       "29      Vázquez Hernández  {'document_link': 'https://s3-us-west-1.amazon...   \n",
       "30         Terrazas Muñoz  {'document_link': 'https://s3-us-west-1.amazon...   \n",
       "31        Gámez Gutiérrez  {'document_link': 'https://s3-us-west-1.amazon...   \n",
       "32       Rangel Lorenzana  {'document_link': 'https://s3-us-west-1.amazon...   \n",
       "33      García Muñoz Ledo  {'document_link': 'https://s3-us-west-1.amazon...   \n",
       "34         Murguía Torres  {'document_link': 'https://s3-us-west-1.amazon...   \n",
       "\n",
       "            position          twitter  \n",
       "0            Senador   mmarthamarquez  \n",
       "1            Senador    XochitlGalvez  \n",
       "2            Senador      WeraReynoso  \n",
       "3            Senador  VeroDelgadilloG  \n",
       "4            Senador   MayuliMtzSimon  \n",
       "5            Senador    MinervaHdezMX  \n",
       "6            Senador        Indira_rs  \n",
       "7            Senador       JosefinaVM  \n",
       "8   Diputado federal     MarthaGlzAgs  \n",
       "9   Diputado federal  MonicaAlmeidalo  \n",
       "10  Diputado federal     PANqueretaro  \n",
       "11  Diputado federal         SonRocha  \n",
       "12  Diputado federal      JosefinaSLP  \n",
       "13  Diputado federal   DunyaskaPANVer  \n",
       "14  Diputado federal   ceciliapatronl  \n",
       "15  Diputado federal   AdrianaDavilaF  \n",
       "16  Diputado federal     Laura_Rojas_  \n",
       "17  Diputado federal   AccionNacional  \n",
       "18  Diputado federal   AccionNacional  \n",
       "19  Diputado federal    Marce_Torres7  \n",
       "20           Alcalde     MirnaRincon1  \n",
       "21           Alcalde     MaruCampos_G  \n",
       "22           Alcalde   Elvira_PaniRod  \n",
       "23           Alcalde     PANqueretaro  \n",
       "24           Alcalde       LSanatiago  \n",
       "25           Alcalde       MakiOrtizD  \n",
       "26    Diputado local    Lupita_DeLira  \n",
       "27    Diputado local     karinaeudave  \n",
       "28    Diputado Local    PANAGSOFICIAL  \n",
       "29    Diputado Local     PANBCcontigo  \n",
       "30    Diputado local    pan_chihuahua  \n",
       "31    Diputado Local     BlancaGamezG  \n",
       "32    Diputado local            PANDF  \n",
       "33    Diputado Local     libiadennise  \n",
       "34    Diputado local  ClaudiaMurguiaT  "
      ]
     },
     "execution_count": 16,
     "metadata": {},
     "output_type": "execute_result"
    }
   ],
   "source": [
    "import requests\n",
    "import pandas as pd\n",
    "\n",
    "declarantes_json = requests.get(\"https://3de3.mx/declarantes.json?by_gender=F&page=1&by_political_party=PAN\")\n",
    "declarantes = pd.DataFrame(declarantes_json.json())\n",
    "declarantes"
   ]
  },
  {
   "cell_type": "code",
   "execution_count": 17,
   "metadata": {},
   "outputs": [
    {
     "data": {
      "text/plain": [
       "<Response [200]>"
      ]
     },
     "execution_count": 17,
     "metadata": {},
     "output_type": "execute_result"
    }
   ],
   "source": [
    "requests.get(\"https://3de3.mx/declarantes.json\")"
   ]
  },
  {
   "cell_type": "markdown",
   "metadata": {
    "colab_type": "text",
    "id": "ZsV38vU_SxpK"
   },
   "source": [
    "1. Descargar las primeras 4 páginas\n",
    "2. Agregar columna de género\n",
    "3. Agregar columna de entidad"
   ]
  },
  {
   "cell_type": "code",
   "execution_count": 7,
   "metadata": {},
   "outputs": [
    {
     "data": {
      "text/plain": [
       "<bound method Response.json of <Response [200]>>"
      ]
     },
     "execution_count": 7,
     "metadata": {},
     "output_type": "execute_result"
    }
   ],
   "source": [
    "declarantes_json = requests.get(\"https://3de3.mx/declarantes.json\")\n",
    "declarantes_json.json\n",
    "\n",
    "\n",
    "\n"
   ]
  },
  {
   "cell_type": "code",
   "execution_count": 0,
   "metadata": {
    "colab": {},
    "colab_type": "code",
    "id": "alXzVYy1VB5V"
   },
   "outputs": [],
   "source": [
    "# Número total funcionarios en #3de3"
   ]
  },
  {
   "cell_type": "code",
   "execution_count": 0,
   "metadata": {
    "colab": {},
    "colab_type": "code",
    "id": "gdN99c94iOxx"
   },
   "outputs": [],
   "source": [
    "# Participación en #3de3 por género"
   ]
  },
  {
   "cell_type": "code",
   "execution_count": 0,
   "metadata": {
    "colab": {},
    "colab_type": "code",
    "id": "lCPKMdvsn9Jm"
   },
   "outputs": [],
   "source": [
    "# Numero de funcionarios por partido"
   ]
  },
  {
   "cell_type": "markdown",
   "metadata": {
    "colab_type": "text",
    "id": "8cMFTOx6VcaJ"
   },
   "source": [
    "Iniciativa 3de3"
   ]
  },
  {
   "cell_type": "markdown",
   "metadata": {
    "colab_type": "text",
    "id": "nzE80mkELnSK"
   },
   "source": []
  },
  {
   "cell_type": "code",
   "execution_count": 0,
   "metadata": {
    "colab": {},
    "colab_type": "code",
    "id": "DUiOE0EZLmK2"
   },
   "outputs": [],
   "source": []
  },
  {
   "cell_type": "markdown",
   "metadata": {
    "colab_type": "text",
    "id": "c2yGANNNPmjL"
   },
   "source": [
    "# 5. Retos (opcional)\n",
    "\n",
    "- Random Walk\n",
    "\n",
    "- Game of Life\n",
    "\n",
    "- Imagenes\n",
    "\n",
    "- Texto"
   ]
  },
  {
   "cell_type": "markdown",
   "metadata": {
    "colab_type": "text",
    "id": "ru2riczOTEVY"
   },
   "source": [
    "# 6. Conclusiones\n",
    "- ¿Qué se llevan de esta semana?\n",
    "- ¿Qué áreas encontraron de oportunidad en ustedes?\n",
    "- ¿Qué les hubiera gustado ver en esta semana?"
   ]
  }
 ],
 "metadata": {
  "colab": {
   "collapsed_sections": [
    "Pbp6nOk8TpYL",
    "MQTzp5SALqGf",
    "5FHaQq39Ufng"
   ],
   "name": "Copia de Sesión 3 - Práctica de Datos.ipynb",
   "provenance": [
    {
     "file_id": "1ljAmKIoXK8UL3l3FTxBgQpM4hDVf0Irv",
     "timestamp": 1556666988185
    }
   ],
   "version": "0.3.2"
  },
  "kernelspec": {
   "display_name": "Python 3",
   "language": "python",
   "name": "python3"
  },
  "language_info": {
   "codemirror_mode": {
    "name": "ipython",
    "version": 3
   },
   "file_extension": ".py",
   "mimetype": "text/x-python",
   "name": "python",
   "nbconvert_exporter": "python",
   "pygments_lexer": "ipython3",
   "version": "3.7.1"
  }
 },
 "nbformat": 4,
 "nbformat_minor": 1
}
