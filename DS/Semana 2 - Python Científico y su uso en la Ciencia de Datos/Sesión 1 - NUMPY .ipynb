{
 "cells": [
  {
   "cell_type": "markdown",
   "metadata": {},
   "source": [
    "# ¡Bienvenidos a la segunda semana del Mastery Data Science!\n",
    "\n",
    "\n",
    "## 1. Numerical Python \n",
    "\n",
    "\n",
    "*Numpy* o *Numertical Python* es un paquete fundamental sobre el cual estan construidos muchos de los paquetes de ciencia de datos más utilizados. Su elemento fundamental son los *arrays* (arreglos) los cuales toman características operacionales similares a las matrices y vectores de álgebra lineal. \n",
    "\n",
    "## 2.  Arreglos \n",
    "\n",
    "Comenzamos importando la librería necesaria para el uso de python"
   ]
  },
  {
   "cell_type": "code",
   "execution_count": 2,
   "metadata": {},
   "outputs": [],
   "source": [
    "import numpy as np"
   ]
  },
  {
   "cell_type": "code",
   "execution_count": null,
   "metadata": {},
   "outputs": [],
   "source": []
  }
 ],
 "metadata": {
  "kernelspec": {
   "display_name": "Python 3",
   "language": "python",
   "name": "python3"
  },
  "language_info": {
   "codemirror_mode": {
    "name": "ipython",
    "version": 3
   },
   "file_extension": ".py",
   "mimetype": "text/x-python",
   "name": "python",
   "nbconvert_exporter": "python",
   "pygments_lexer": "ipython3",
   "version": "3.7.1"
  }
 },
 "nbformat": 4,
 "nbformat_minor": 2
}
