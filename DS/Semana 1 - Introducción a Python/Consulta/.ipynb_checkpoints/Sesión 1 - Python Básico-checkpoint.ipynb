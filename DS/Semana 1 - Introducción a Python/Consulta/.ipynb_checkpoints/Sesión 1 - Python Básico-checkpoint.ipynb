{
 "cells": [
  {
   "cell_type": "markdown",
   "metadata": {},
   "source": [
    "# ¡Bienvenidos a la primera sesión del Mastery Data Science!\n",
    "\n",
    "## 1.- Documentación oficial\n",
    "\n",
    "Toda la documentación del curso, tanto ejercicios como material de consulta, estará disponible en la plataforma GitHub en el siguiente link:\n",
    "\n",
    "https://github.com/mffg93/CERO-UNO/tree/master/DS\n",
    "\n",
    "Pueden descargar todo el repositorio mediante el botón verde disponible\n",
    "\n",
    "\n",
    "\n",
    "## 2.- ¿Por qué Python para la ciencia de datos?\n",
    "\n",
    "Python es un lenguaje que puede actuar como una solución completa, puede encargarse de los servicios web, bases de datos, manejo y procesamiento de datos. También se puede utilizar para escribir aplicaciones del lado del servidor, tales como sitios web dinámicos, aplicaciones para sistemas operativos con interfaces gráficas e incluso aplicaciones en IOS y Android.\n",
    "\n",
    "https://www.quora.com/Why-is-Python-a-language-of-choice-for-data-scientists\n",
    "\n",
    "> \"The Python community invested in the mid-1990s in Numeric, an \"extension to Python to support numeric analysis as naturally as [M]atlab does\". Numeric later evolved into NumPy. Several years later, the plotting functionality from Matlab was ported to Python with matplotlib. Libraries for scientific computing were built around NumPy and matplotlib and bundled into the SciPy package, which was commercially supported by Enthought. Python's support for Matlab-like array manipulation and plotting is a major reason to prefer it over Perl and Ruby.\n",
    "\n",
    "> Today, the most popular alternatives to Python for data scientists are R, Matlab/Octave, and Mathematica/Sage. In addition to the work mentioned above to port features from Matlab into Python, recent work has ported several popular features from R and Mathematica into Python.\n",
    "\n",
    "> From R, the data frame and associated manipulations (from the plyr and reshape packages) have been implemented by the pandas library. The scikit-learn project presents a common interface to many machine learning algorithms, similar to the caret package in R.\"\n",
    "\n",
    "<div align=\"right\"><b>-Jeff Hammerbacher, Professor at Hammer Lab, founder at Cloudera, investor at Techammer</b></div>\n",
    "\n",
    "### Filosofía de Python"
   ]
  },
  {
   "cell_type": "code",
   "execution_count": 1,
   "metadata": {},
   "outputs": [
    {
     "name": "stdout",
     "output_type": "stream",
     "text": [
      "The Zen of Python, by Tim Peters\n",
      "\n",
      "Beautiful is better than ugly.\n",
      "Explicit is better than implicit.\n",
      "Simple is better than complex.\n",
      "Complex is better than complicated.\n",
      "Flat is better than nested.\n",
      "Sparse is better than dense.\n",
      "Readability counts.\n",
      "Special cases aren't special enough to break the rules.\n",
      "Although practicality beats purity.\n",
      "Errors should never pass silently.\n",
      "Unless explicitly silenced.\n",
      "In the face of ambiguity, refuse the temptation to guess.\n",
      "There should be one-- and preferably only one --obvious way to do it.\n",
      "Although that way may not be obvious at first unless you're Dutch.\n",
      "Now is better than never.\n",
      "Although never is often better than *right* now.\n",
      "If the implementation is hard to explain, it's a bad idea.\n",
      "If the implementation is easy to explain, it may be a good idea.\n",
      "Namespaces are one honking great idea -- let's do more of those!\n"
     ]
    }
   ],
   "source": [
    "import this "
   ]
  },
  {
   "cell_type": "markdown",
   "metadata": {},
   "source": [
    "## 3.- Primeros pasos\n",
    "\n",
    "### ¿Descargar Anaconda?\n",
    "\n",
    "Podemos descargar la suite de Anaconda en https://www.anaconda.com/distribution/#download-section. \n",
    "\n",
    "### Abrir Conda\n",
    "\n",
    "- **Windows:** En el menú de inicio, buscar y abrir \"Anaconda Prompt\". Todos los comandos serán introducidos en esta ventana.\n",
    "\n",
    "- **MacOs/Linux:** Abrir una ventana de la terminal propia del sistema operativo. Todos los comandos serán introducidos en esta ventana.\n",
    "\n",
    "### Creación del entorno \n",
    "\n",
    "1.- Creemos nuestro entorno virtual de trabajo mediante: "
   ]
  },
  {
   "cell_type": "markdown",
   "metadata": {},
   "source": [
    "conda create -n ProgramaDS anaconda"
   ]
  },
  {
   "cell_type": "markdown",
   "metadata": {},
   "source": [
    "2.- Activamos nuestro nuevo entorno mediante: "
   ]
  },
  {
   "cell_type": "code",
   "execution_count": null,
   "metadata": {},
   "outputs": [],
   "source": [
    "conda activate -n ProgramaDS"
   ]
  },
  {
   "cell_type": "markdown",
   "metadata": {},
   "source": [
    "## 4.- Creación de libreta\n",
    "\n",
    "1.- En nuestra terminal o Anaconda prompt, inicializamos Jupyter Notebook"
   ]
  },
  {
   "cell_type": "code",
   "execution_count": null,
   "metadata": {},
   "outputs": [],
   "source": [
    "jupyter notebook"
   ]
  },
  {
   "cell_type": "markdown",
   "metadata": {},
   "source": [
    "2.- En nuestro navegador se abrira un explorador de documentos. Creemos una carpeta para nuestros documentos del curso. En la parte derecha superior, damos click en el botón de nuevo documento. ¡Listo! \n",
    "\n",
    "\n",
    "## 5.- Comencemos con lo básico \n",
    "\n",
    "\n",
    " - Comentarios\n",
    " - Impresión de resultados \n",
    "    \n",
    " "
   ]
  },
  {
   "cell_type": "code",
   "execution_count": 3,
   "metadata": {
    "scrolled": true
   },
   "outputs": [
    {
     "name": "stdout",
     "output_type": "stream",
     "text": [
      "¡Hola Mundo!\n"
     ]
    }
   ],
   "source": [
    "# Soy un comentario\n",
    "print(\"¡Hola Mundo!\")"
   ]
  },
  {
   "cell_type": "markdown",
   "metadata": {},
   "source": [
    "### 5.1 Manejo de  Variables\n",
    " - Python es orientado a objetos, y de tipado dinámico, es decir, no es necesario declarar las variables antes de usarlas, o declarar su tipo. \n",
    " - Cada variable en Python es un objeto.\n",
    "\n",
    "### 5.2 Tipos de datos y estructuras \n",
    "### 5.2.1 Numéricos\n",
    "Hay tres tipos de datos numéricos: \n",
    "- **enteros:** todos los números enteros, positivos o negativos \n",
    "- **números complejos:** en Python se utiliza *j* para indicar la unidad imaginaria.\n",
    "- **números de punto flotante:** todos aquellos datos en los que específica la existencia de decimales. "
   ]
  },
  {
   "cell_type": "code",
   "execution_count": 11,
   "metadata": {},
   "outputs": [
    {
     "name": "stdout",
     "output_type": "stream",
     "text": [
      "<class 'int'>\n",
      "<class 'int'>\n"
     ]
    }
   ],
   "source": [
    "#Asignación de un número entero\n",
    "mi_int = -9\n",
    "print(type(mi_int))\n",
    "\n",
    "#Asignación de un número entero\n",
    "mi_int = 1\n",
    "print(type(mi_int))\n"
   ]
  },
  {
   "cell_type": "code",
   "execution_count": 3,
   "metadata": {},
   "outputs": [
    {
     "name": "stdout",
     "output_type": "stream",
     "text": [
      "<class 'float'>\n"
     ]
    }
   ],
   "source": [
    "#Asignación de un número de punto flotante\n",
    "mi_float = 7.0\n",
    "print(type(mi_float))\n",
    " "
   ]
  },
  {
   "cell_type": "code",
   "execution_count": 14,
   "metadata": {},
   "outputs": [
    {
     "name": "stdout",
     "output_type": "stream",
     "text": [
      "<class 'complex'>\n"
     ]
    }
   ],
   "source": [
    "#Asignación de un número de complejo\n",
    "mi_complex = 3.14j\n",
    "print(type(mi_complex))"
   ]
  },
  {
   "cell_type": "markdown",
   "metadata": {},
   "source": [
    "### 5.2.2 Listas \n",
    "\n",
    "1. Son una secuencia ordenada de elementos, donde los elementos no tienen que pertenecer al mismo tipo de variable. \n",
    "\n",
    "2. Una lista es definida mediante el uso corchetes [ ] para conterner los elementos, los cuales son separados por una coma. \n",
    "\n",
    "3. Podemos seleccionar ciertos elementos de una lista colocando la posición de ellos en la lista entre corchetes. Los índices en Python corren desde 0. \n",
    "\n",
    "4. Son mutables, es decir, los elementos dentro de ella pueden ser modificados. "
   ]
  },
  {
   "cell_type": "code",
   "execution_count": 20,
   "metadata": {},
   "outputs": [
    {
     "name": "stdout",
     "output_type": "stream",
     "text": [
      "[]\n",
      "[1]\n",
      "[1, 'Monty']\n",
      "[1, 'Monty', True]\n",
      "Monty\n",
      "['Monty', True]\n",
      "['Monty', True]\n",
      "[1, 'Monty', 'gato']\n"
     ]
    }
   ],
   "source": [
    "## DEFINICION\n",
    "\n",
    "#Definición de una lista vacia \n",
    "mi_lista = []\n",
    "print(mi_lista)\n",
    "\n",
    "#Añadimos el elemento numérico uno al final de la lista\n",
    "mi_lista.append(1)\n",
    "print(mi_lista)\n",
    "\n",
    "#Añadimos un string al final de la lista. \n",
    "mi_lista.append(\"Monty\")\n",
    "print(mi_lista)\n",
    "\n",
    "#Añadimos una variable booleana al final de la lista. \n",
    "mi_lista.append(True)\n",
    "print(mi_lista)\n",
    "\n",
    "\n",
    "## SELECCIÓN DE VARIABLES\n",
    "\n",
    "#Seleccionemos el segundo elemento\n",
    "print(mi_lista[1]) \n",
    "\n",
    "#Seleccionemos de segundo elemento en adelante\n",
    "print(mi_lista[1:]) \n",
    "\n",
    "## MODIFICACIÓN DE UNA LISTA\n",
    "\n",
    "#Cambiamos el tercer elemento \n",
    "mi_lista[2]='gato'\n",
    "print(mi_lista)\n"
   ]
  },
  {
   "cell_type": "markdown",
   "metadata": {},
   "source": [
    "### 5.2.3  Tuplas\n",
    "\n",
    "1.- Son una secuencia ordenada de elementos, donde los elementos no tienen que pertenecer al mismo tipo de variable. \n",
    "\n",
    "2.- Las tuplas son inmutables: después de creadas no pueden ser modificadas. Se utilizan para la protección de sobreescritura en ciertas varibles. \n",
    "\n",
    "3.- Son definidas mediante parentesis ().  \n",
    "\n",
    "4.- Podemos extraer un cierto elemento de ellas mediante el uso de corchetes [], pero la sobreescritura esta prohibida. "
   ]
  },
  {
   "cell_type": "code",
   "execution_count": 22,
   "metadata": {},
   "outputs": [
    {
     "name": "stdout",
     "output_type": "stream",
     "text": [
      "(1, 'Monty', True)\n",
      "1\n"
     ]
    }
   ],
   "source": [
    "# Definición de una tupla\n",
    "mi_tupla = (1, \"Monty\", True);\n",
    "print(mi_tupla)\n",
    "\n",
    "#Extracción de un elemento de la tupla \n",
    "print(mi_tupla[0])"
   ]
  },
  {
   "cell_type": "code",
   "execution_count": 23,
   "metadata": {
    "scrolled": true
   },
   "outputs": [
    {
     "ename": "TypeError",
     "evalue": "'tuple' object does not support item assignment",
     "output_type": "error",
     "traceback": [
      "\u001b[0;31m---------------------------------------------------------------------------\u001b[0m",
      "\u001b[0;31mTypeError\u001b[0m                                 Traceback (most recent call last)",
      "\u001b[0;32m<ipython-input-23-8d7f178fb9d6>\u001b[0m in \u001b[0;36m<module>\u001b[0;34m\u001b[0m\n\u001b[1;32m      1\u001b[0m \u001b[0;31m# Imposibilidad de redefinir un valor dentro de una tupla\u001b[0m\u001b[0;34m\u001b[0m\u001b[0;34m\u001b[0m\u001b[0;34m\u001b[0m\u001b[0m\n\u001b[0;32m----> 2\u001b[0;31m \u001b[0mmi_tupla\u001b[0m\u001b[0;34m[\u001b[0m\u001b[0;36m0\u001b[0m\u001b[0;34m]\u001b[0m \u001b[0;34m=\u001b[0m \u001b[0;36m2\u001b[0m\u001b[0;34m\u001b[0m\u001b[0;34m\u001b[0m\u001b[0m\n\u001b[0m",
      "\u001b[0;31mTypeError\u001b[0m: 'tuple' object does not support item assignment"
     ]
    }
   ],
   "source": [
    "# Imposibilidad de redefinir un valor dentro de una tupla \n",
    "mi_tupla[0] = 2"
   ]
  },
  {
   "cell_type": "markdown",
   "metadata": {},
   "source": [
    "### 5.2.4 String\n",
    "\n",
    "1.- Son secuencia de caractéres Unicode. \n",
    "\n",
    "2.- Pueden ser específicados medinate el uso de comillas sencillas o dobles, mientras que para strings en multiples lineas se indican con triple comillas. \n",
    "\n",
    "3.- Podemos extraer un cierto elemento del string mediante el uso de corchetes, pero son inmutables como las tuplas. \n",
    "\n",
    "\n",
    "\n",
    "\n",
    "**¡Importante!:** En Python no existe el tipo \"char\", un sólo carácter es un string de tamaño 1"
   ]
  },
  {
   "cell_type": "code",
   "execution_count": 28,
   "metadata": {},
   "outputs": [
    {
     "name": "stdout",
     "output_type": "stream",
     "text": [
      "¡Hola mundo!\n",
      "¡Hola mundo!\n",
      "la mundo!\n"
     ]
    }
   ],
   "source": [
    "# Definición de un string \n",
    "mi_string='¡Hola mundo!' \n",
    "mi_string2=\"¡Hola mundo!\"\n",
    "\n",
    "print(mi_string)\n",
    "print(mi_string2)\n",
    "\n",
    "#Extracción de los caracteres de la posición 4 en adelante\n",
    "print(mi_string[3:])"
   ]
  },
  {
   "cell_type": "code",
   "execution_count": 32,
   "metadata": {},
   "outputs": [
    {
     "ename": "TypeError",
     "evalue": "'str' object does not support item assignment",
     "output_type": "error",
     "traceback": [
      "\u001b[0;31m---------------------------------------------------------------------------\u001b[0m",
      "\u001b[0;31mTypeError\u001b[0m                                 Traceback (most recent call last)",
      "\u001b[0;32m<ipython-input-32-6a9e970c65b4>\u001b[0m in \u001b[0;36m<module>\u001b[0;34m\u001b[0m\n\u001b[1;32m      1\u001b[0m \u001b[0;31m# Imposibilidad de redefinir un valor dentro de un string\u001b[0m\u001b[0;34m\u001b[0m\u001b[0;34m\u001b[0m\u001b[0;34m\u001b[0m\u001b[0m\n\u001b[0;32m----> 2\u001b[0;31m \u001b[0mmi_string\u001b[0m\u001b[0;34m[\u001b[0m\u001b[0;36m3\u001b[0m\u001b[0;34m]\u001b[0m \u001b[0;34m=\u001b[0m \u001b[0;34m'k'\u001b[0m\u001b[0;34m\u001b[0m\u001b[0;34m\u001b[0m\u001b[0m\n\u001b[0m",
      "\u001b[0;31mTypeError\u001b[0m: 'str' object does not support item assignment"
     ]
    }
   ],
   "source": [
    "# Imposibilidad de redefinir un valor dentro de un string\n",
    "mi_string[3] = 'k'"
   ]
  },
  {
   "cell_type": "markdown",
   "metadata": {},
   "source": [
    "Para poder introducir comillas simples en un string usamos comillas dobles y viceversa"
   ]
  },
  {
   "cell_type": "code",
   "execution_count": 9,
   "metadata": {},
   "outputs": [
    {
     "name": "stdout",
     "output_type": "stream",
     "text": [
      "permite usar \"comillas\" dobles\n",
      "permite usar 'comillas' simples\n"
     ]
    }
   ],
   "source": [
    "comillas_simples = 'permite usar \"comillas\" dobles'\n",
    "comillas_dobles = \"permite usar 'comillas' simples\"\n",
    "print(comillas_simples)\n",
    "print(comillas_dobles)"
   ]
  },
  {
   "cell_type": "markdown",
   "metadata": {},
   "source": [
    "### 5.2.5 Conjunto (Set)\n",
    "\n",
    "1.- Es una colección desordenada de elementos únicos: se eliminan los duplicados. \n",
    "\n",
    "2.- Los elementos se encuentran contenidos dentro de llaves {} y son separados por comas. \n",
    "\n",
    "3.- Al ser desordenados, no se pueden extraer elementos dentro de ellos\n"
   ]
  },
  {
   "cell_type": "code",
   "execution_count": 34,
   "metadata": {},
   "outputs": [
    {
     "name": "stdout",
     "output_type": "stream",
     "text": [
      "{1, 2, 3, 4, 'hola', 'perro'}\n"
     ]
    }
   ],
   "source": [
    "# Definición de un conjunto \n",
    "Set={1,2,3,4,'perro','perro',\" 2\", 'hola'}\n",
    "print(Set)\n"
   ]
  },
  {
   "cell_type": "code",
   "execution_count": 35,
   "metadata": {},
   "outputs": [
    {
     "ename": "TypeError",
     "evalue": "'set' object does not support indexing",
     "output_type": "error",
     "traceback": [
      "\u001b[0;31m---------------------------------------------------------------------------\u001b[0m",
      "\u001b[0;31mTypeError\u001b[0m                                 Traceback (most recent call last)",
      "\u001b[0;32m<ipython-input-35-5fb527d77539>\u001b[0m in \u001b[0;36m<module>\u001b[0;34m\u001b[0m\n\u001b[0;32m----> 1\u001b[0;31m \u001b[0mSet\u001b[0m\u001b[0;34m[\u001b[0m\u001b[0;36m3\u001b[0m\u001b[0;34m]\u001b[0m\u001b[0;34m\u001b[0m\u001b[0;34m\u001b[0m\u001b[0m\n\u001b[0m",
      "\u001b[0;31mTypeError\u001b[0m: 'set' object does not support indexing"
     ]
    }
   ],
   "source": [
    "#No es posible recuperar un elemento del conjunto\n",
    "Set[3]"
   ]
  },
  {
   "cell_type": "markdown",
   "metadata": {},
   "source": [
    "### 5.2.6 Diccionario \n",
    "\n",
    "1.- Es una coleccion desordenada de elementos pareados: una llave e información asignada.\n",
    "\n",
    "2.- Estan optimizados para recuperar la información siempre y cuando se conozca la llave qu se desea. \n",
    "\n",
    "3.- Contenidos entre llaves {}, cada uno de los pares poseen la estructura llave:información y son separados con comas. "
   ]
  },
  {
   "cell_type": "code",
   "execution_count": 38,
   "metadata": {},
   "outputs": [
    {
     "name": "stdout",
     "output_type": "stream",
     "text": [
      "Alejandro\n"
     ]
    }
   ],
   "source": [
    "#Definicion de un diccionario simple \n",
    "ficha_bibliografica = {\"Nombre\" : \"Alejandro\", \"Edad\" : 26, \"Apellido\" : \"Pérez\"}\n",
    "\n",
    "# Recuperación del nombre dentro del diccionario \n",
    "print(ficha_bibliografica['Nombre'])"
   ]
  },
  {
   "cell_type": "code",
   "execution_count": 2,
   "metadata": {},
   "outputs": [
    {
     "name": "stdout",
     "output_type": "stream",
     "text": [
      "{'Nombre': 'Alejandro', 'Apellido': 'López'}\n"
     ]
    }
   ],
   "source": [
    "# Podemos definir un diccionario donde se utilicen diccionarios como informacion contenida\n",
    "Alumnos={\n",
    "    1:{'Nombre':'Alejandro','Apellido':'López'},\n",
    "    2:{'Nombre':'Israel','Apellido':'Martínez'},\n",
    "    3:{'Nombre':'Luis','Apellido':'Garza'},\n",
    "    }\n",
    "\n",
    "#Recuperación de la información de un alumno específico  \n",
    "print(Alumnos[1])\n"
   ]
  },
  {
   "cell_type": "code",
   "execution_count": 3,
   "metadata": {},
   "outputs": [
    {
     "name": "stdout",
     "output_type": "stream",
     "text": [
      "Garza\n"
     ]
    }
   ],
   "source": [
    "#Recuperación del apellido de un alumno \n",
    "print(Alumnos[3]['Apellido'])"
   ]
  },
  {
   "cell_type": "markdown",
   "metadata": {},
   "source": [
    "## 5.3 Operaciones sobre variables\n",
    "\n",
    "### 5.3.1 Operaciones aritméticas \n",
    "\n",
    "Los datos del tipo numéricos poseen nativamente solo las operaciones básicas\n"
   ]
  },
  {
   "cell_type": "code",
   "execution_count": 5,
   "metadata": {},
   "outputs": [
    {
     "name": "stdout",
     "output_type": "stream",
     "text": [
      "5\n",
      "-1\n",
      "6\n",
      "0.6666666666666666\n",
      "8\n"
     ]
    }
   ],
   "source": [
    "# Suma (+)\n",
    "print(2+3)\n",
    "\n",
    "# Resta (-)       \n",
    "print(2-3)\n",
    "\n",
    "# Multiplicación (*) \n",
    "print(2*3)\n",
    "\n",
    "# División (/)\n",
    "\n",
    "print(2/3)\n",
    "\n",
    "# Exponente (**)     \n",
    "print(2**3) "
   ]
  },
  {
   "cell_type": "markdown",
   "metadata": {},
   "source": [
    "Podemos incrementar el número de funciones disponibles mediante la importación del paquete *math* o *cmat*, si es que se necesita compatibilidad con los números complejos. Para mayor información: https://docs.python.org/3/library/math.html"
   ]
  },
  {
   "cell_type": "markdown",
   "metadata": {},
   "source": [
    "### 5.3.2 Operaciones con strings"
   ]
  },
  {
   "cell_type": "markdown",
   "metadata": {},
   "source": [
    "Entre las operaciones más comunes estan la concatenación, repetición y la conversión de los elementos en mínusculas o mayúsculas. Para ver todas las posibles operaciones: https://www.tutorialspoint.com/python/python_strings.htm"
   ]
  },
  {
   "cell_type": "code",
   "execution_count": 22,
   "metadata": {},
   "outputs": [
    {
     "name": "stdout",
     "output_type": "stream",
     "text": [
      "Hola mundo\n",
      "HolaHolamundo\n",
      "HOLA MUNDO\n",
      "hola mundo\n"
     ]
    }
   ],
   "source": [
    "a='Hola'\n",
    "b='mundo'\n",
    "\n",
    "texto = a +' '+b\n",
    "print(texto)\n",
    "\n",
    "texto2 = a*2+b\n",
    "print(texto2)\n",
    "\n",
    "texto3=texto.upper()\n",
    "print(texto3)\n",
    "texto4=texto3.lower()\n",
    "print(texto4)"
   ]
  },
  {
   "cell_type": "markdown",
   "metadata": {},
   "source": [
    "### 5.3.3 Operaciones con listas\n",
    "\n",
    "Las operaciones básicas sobre las listas son las mismas que para los strings\n"
   ]
  },
  {
   "cell_type": "code",
   "execution_count": 24,
   "metadata": {},
   "outputs": [
    {
     "name": "stdout",
     "output_type": "stream",
     "text": [
      "[1, 2, 3, 4, 5, 6, 7, 8, 9, 10]\n",
      "[1, 2, 3, 4, 5, 1, 2, 3, 4, 5, 6, 7, 8, 9, 10]\n"
     ]
    }
   ],
   "source": [
    "bajos = [1, 2, 3, 4, 5]\n",
    "altos = [6, 7, 8, 9, 10]\n",
    "numeros = bajos + altos\n",
    "print(numeros)\n",
    "numeros = 2*bajos + altos\n",
    "print(numeros)"
   ]
  },
  {
   "cell_type": "markdown",
   "metadata": {},
   "source": [
    "### 5.3.4 Comparadores\n",
    "\n",
    "Devuelven valores de cierto o falso en caso de que se cumplan o no la condicion que imponen. Pueden ser aplicados cualquier elemento "
   ]
  },
  {
   "cell_type": "code",
   "execution_count": 29,
   "metadata": {},
   "outputs": [
    {
     "data": {
      "text/plain": [
       "True"
      ]
     },
     "execution_count": 29,
     "metadata": {},
     "output_type": "execute_result"
    }
   ],
   "source": [
    "5 < 6 # Menor que"
   ]
  },
  {
   "cell_type": "code",
   "execution_count": 30,
   "metadata": {},
   "outputs": [
    {
     "data": {
      "text/plain": [
       "True"
      ]
     },
     "execution_count": 30,
     "metadata": {},
     "output_type": "execute_result"
    }
   ],
   "source": [
    "5 <= 6 # Menor o igual a"
   ]
  },
  {
   "cell_type": "code",
   "execution_count": 31,
   "metadata": {},
   "outputs": [
    {
     "data": {
      "text/plain": [
       "True"
      ]
     },
     "execution_count": 31,
     "metadata": {},
     "output_type": "execute_result"
    }
   ],
   "source": [
    "6 > 5 # Mayor que"
   ]
  },
  {
   "cell_type": "code",
   "execution_count": 32,
   "metadata": {},
   "outputs": [
    {
     "data": {
      "text/plain": [
       "True"
      ]
     },
     "execution_count": 32,
     "metadata": {},
     "output_type": "execute_result"
    }
   ],
   "source": [
    "6 >= 5 # Mayor o igual a"
   ]
  },
  {
   "cell_type": "code",
   "execution_count": 33,
   "metadata": {},
   "outputs": [
    {
     "data": {
      "text/plain": [
       "True"
      ]
     },
     "execution_count": 33,
     "metadata": {},
     "output_type": "execute_result"
    }
   ],
   "source": [
    "6 == 6 # Igual a"
   ]
  },
  {
   "cell_type": "code",
   "execution_count": 34,
   "metadata": {},
   "outputs": [
    {
     "data": {
      "text/plain": [
       "True"
      ]
     },
     "execution_count": 34,
     "metadata": {},
     "output_type": "execute_result"
    }
   ],
   "source": [
    "6 != 5 # Diferente a (No igual a)"
   ]
  },
  {
   "cell_type": "code",
   "execution_count": 35,
   "metadata": {},
   "outputs": [
    {
     "name": "stdout",
     "output_type": "stream",
     "text": [
      "True\n",
      "False\n"
     ]
    }
   ],
   "source": [
    "x = [1, 2, 3]\n",
    "y = [1, 2, 3]\n",
    "print(x == y)\n",
    "print(x is y)"
   ]
  },
  {
   "cell_type": "code",
   "execution_count": 36,
   "metadata": {},
   "outputs": [
    {
     "data": {
      "text/plain": [
       "False"
      ]
     },
     "execution_count": 36,
     "metadata": {},
     "output_type": "execute_result"
    }
   ],
   "source": [
    "x is list"
   ]
  },
  {
   "cell_type": "markdown",
   "metadata": {},
   "source": [
    "### 5.3.5 Operadores lógicos\n"
   ]
  },
  {
   "cell_type": "code",
   "execution_count": 37,
   "metadata": {},
   "outputs": [],
   "source": [
    "variable_or = True or False\n",
    "variable_and = True and False\n",
    "variable_not = not False"
   ]
  },
  {
   "cell_type": "markdown",
   "metadata": {},
   "source": [
    "### 5.3.6 El operador \"in\""
   ]
  },
  {
   "cell_type": "markdown",
   "metadata": {},
   "source": [
    "El operador \"in\" se utiliza para comprobar si existe un objeto especificado dentro de un objeto iterable, tal como una lista:"
   ]
  },
  {
   "cell_type": "code",
   "execution_count": 5,
   "metadata": {},
   "outputs": [
    {
     "data": {
      "text/plain": [
       "True"
      ]
     },
     "execution_count": 5,
     "metadata": {},
     "output_type": "execute_result"
    }
   ],
   "source": [
    "\"Carl\" in [\"Carl\", \"Edo\", \"Rick\"]"
   ]
  },
  {
   "cell_type": "markdown",
   "metadata": {},
   "source": [
    "## 6 Control de flujo\n",
    "\n",
    "Para indicar la anidación de las funciones, Python usa la sangría de 4 espacios. "
   ]
  },
  {
   "cell_type": "markdown",
   "metadata": {},
   "source": [
    "### 6.1 Condicional  - If\n",
    "\"If\" se utiliza para la ejecución condicional, es decir, \"If\" ejecuta algún código específico después de comprobar si su expresión es verdadera."
   ]
  },
  {
   "cell_type": "code",
   "execution_count": 40,
   "metadata": {},
   "outputs": [
    {
     "name": "stdout",
     "output_type": "stream",
     "text": [
      "More\n"
     ]
    }
   ],
   "source": [
    "# Otorgamos un valor a una variable \n",
    "x = 5\n",
    "\n",
    "# Establecemos la condición inicial: Si la variable es menor a cero\n",
    "if x < 0:\n",
    "    # Cambiamos el numero negativo a cero\n",
    "    x = 0\n",
    "    print('Cambiamos el negativo a cero')\n",
    "    # Si la variable es cero, imprimimos la palabra cero \n",
    "elif x == 0:\n",
    "    print('Cero')\n",
    "    #Si la variable es uno, imprimimos único \n",
    "elif x == 1:\n",
    "    print('Unico')\n",
    "    #Si no se cumple ninguna de las condiciones, imprime \"mayor\"\n",
    "else:\n",
    "    print('More')"
   ]
  },
  {
   "cell_type": "code",
   "execution_count": 7,
   "metadata": {},
   "outputs": [
    {
     "name": "stdout",
     "output_type": "stream",
     "text": [
      "Adios\n"
     ]
    }
   ],
   "source": [
    "# Dependiendo una variable imprime un mensaje: \n",
    "#      Si es menor a cero, imprime 'Hola'\n",
    "#      Si es mayor o igual a cero, imprime 'Adios'\n",
    "\n",
    "#Creamos la variable \n",
    "x=4\n",
    "\n",
    "if x<0: \n",
    "    print('Hola')\n",
    "else:\n",
    "    print('Adios')"
   ]
  },
  {
   "cell_type": "markdown",
   "metadata": {},
   "source": [
    "### 6.2  Continuar hasta - for\n",
    "\n",
    "Indica la iteración de un proceso un número finito de veces, cuyos indices de inicio y paro estan definidos por una tupla o una lista. "
   ]
  },
  {
   "cell_type": "code",
   "execution_count": 17,
   "metadata": {},
   "outputs": [
    {
     "name": "stdout",
     "output_type": "stream",
     "text": [
      "0\n",
      "1\n",
      "2\n",
      "3\n"
     ]
    }
   ],
   "source": [
    "# Para cada elemento i contenido en el rango, imprime su valor \n",
    "for i in range(4): \n",
    "    print(i)\n"
   ]
  },
  {
   "cell_type": "code",
   "execution_count": 18,
   "metadata": {},
   "outputs": [
    {
     "name": "stdout",
     "output_type": "stream",
     "text": [
      "range(0, 4)\n"
     ]
    }
   ],
   "source": [
    "# Nota: funcion rango: es un elemento propio de Python que se parece a una lista, !no es una lista!\n",
    "\n",
    "#Definan un rango  \n",
    "ran=range(4)\n",
    "\n",
    "#Imprimamos el valor\n",
    "print(ran)\n"
   ]
  },
  {
   "cell_type": "code",
   "execution_count": 19,
   "metadata": {},
   "outputs": [
    {
     "name": "stdout",
     "output_type": "stream",
     "text": [
      "[0, 1, 2, 3]\n"
     ]
    }
   ],
   "source": [
    "# Para ver la lista contenida en el rango, usamos list()\n",
    "print(list(ran))"
   ]
  },
  {
   "cell_type": "code",
   "execution_count": 21,
   "metadata": {},
   "outputs": [
    {
     "name": "stdout",
     "output_type": "stream",
     "text": [
      "Python es cool\n",
      "Python es poderoso\n",
      "Python es fácil\n"
     ]
    }
   ],
   "source": [
    "# Para cada elemento 'palaba' en la tupla, \n",
    "for palabra in ('cool', 'poderoso', 'fácil'):\n",
    "    # Completa la frase \n",
    "    print('Python es %s' % palabra)"
   ]
  },
  {
   "cell_type": "markdown",
   "metadata": {},
   "source": [
    "### 6.3 Mientras que-  While\n",
    "\n",
    "\n",
    "Indica la iteración de un proceso de \n",
    "While se utiliza para la ejecución repetida, siempre y cuando se cumpla alguna condición"
   ]
  },
  {
   "cell_type": "code",
   "execution_count": 22,
   "metadata": {},
   "outputs": [
    {
     "name": "stdout",
     "output_type": "stream",
     "text": [
      "0\n",
      "1\n",
      "2\n"
     ]
    }
   ],
   "source": [
    "contador = 0\n",
    "while contador < 3:\n",
    "    print(contador)\n",
    "    contador += 1  #contador = contador + 1"
   ]
  }
 ],
 "metadata": {
  "kernelspec": {
   "display_name": "Python 3",
   "language": "python",
   "name": "python3"
  },
  "language_info": {
   "codemirror_mode": {
    "name": "ipython",
    "version": 3
   },
   "file_extension": ".py",
   "mimetype": "text/x-python",
   "name": "python",
   "nbconvert_exporter": "python",
   "pygments_lexer": "ipython3",
   "version": "3.7.1"
  }
 },
 "nbformat": 4,
 "nbformat_minor": 2
}
