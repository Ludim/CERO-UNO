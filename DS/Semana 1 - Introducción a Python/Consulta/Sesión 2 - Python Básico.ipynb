{
 "cells": [
  {
   "cell_type": "markdown",
   "metadata": {},
   "source": [
    "# ¡Bienvenidos a la segunda sesión del Mastery Data Science!\n",
    "\n",
    "## ¡Antes de empezar! \n",
    "\n",
    " 1. Abran Conda Prompt (Windows)/Terminal (MacOs/Linx)\n",
    " 2. Activen el ambiente que crearon *conda activate* y el nombre del ambiente\n",
    "     - Si no se acuerdan pueden usar el comando *conda list* para ver los ambientes posibles \n",
    " 3. Abran Jupyter y comencemos\n",
    "     \n",
    "\n",
    "## 7 Comprehensions\n",
    "\n",
    "Mientras menos escribamos, entonces podemos crear ciertos objetos mendiante el uso de comandos rápidos, llamados comprehensions: \n",
    "\n",
    "La estructura para la creación de una es sencilla: \n",
    "$$[\\text{Accion } \\textbf{for } \\text{Variable } \\textbf{in } \\text{Espacio de iteración}]$$"
   ]
  },
  {
   "cell_type": "code",
   "execution_count": 2,
   "metadata": {},
   "outputs": [
    {
     "name": "stdout",
     "output_type": "stream",
     "text": [
      "[0, 1, 4, 9]\n"
     ]
    }
   ],
   "source": [
    "# Creemos una lista que contenga los cuadrados: manera larga\n",
    "\n",
    "k1=[]\n",
    "for i in range(4):\n",
    "    k1.append(i**2)\n",
    "\n",
    "print(k1)"
   ]
  },
  {
   "cell_type": "code",
   "execution_count": 5,
   "metadata": {},
   "outputs": [
    {
     "data": {
      "text/plain": [
       "[0, 1, 4, 9]"
      ]
     },
     "execution_count": 5,
     "metadata": {},
     "output_type": "execute_result"
    }
   ],
   "source": [
    "# Usando métodos cortos, reducimos lo que escribirmos \n",
    "[i**2 for i in range(4)]"
   ]
  },
  {
   "cell_type": "code",
   "execution_count": 7,
   "metadata": {},
   "outputs": [
    {
     "data": {
      "text/plain": [
       "[1, 2, 3, 4, 5, 6, 7, 8, 9, 10]"
      ]
     },
     "execution_count": 7,
     "metadata": {},
     "output_type": "execute_result"
    }
   ],
   "source": [
    "# Imprime todos los numeros del 1 al 10 en unla lista \n",
    "[i for i in range(1, 11)]\n"
   ]
  },
  {
   "cell_type": "markdown",
   "metadata": {},
   "source": [
    "Sin embargo, podemos crear diccionarios y conjuntos: \n"
   ]
  },
  {
   "cell_type": "code",
   "execution_count": 9,
   "metadata": {},
   "outputs": [
    {
     "data": {
      "text/plain": [
       "{1, 2, 3, 4, 5, 6, 7, 8, 9, 10}"
      ]
     },
     "execution_count": 9,
     "metadata": {},
     "output_type": "execute_result"
    }
   ],
   "source": [
    "# Creacion de un conjunto que contenga los números del 1 al 10 \n",
    "{i for i in range(1, 11)} "
   ]
  },
  {
   "cell_type": "code",
   "execution_count": 14,
   "metadata": {},
   "outputs": [
    {
     "data": {
      "text/plain": [
       "{'uno': 1,\n",
       " 'dos': 2,\n",
       " 'tres': 3,\n",
       " 'cuatro': 4,\n",
       " 'cinco': 5,\n",
       " 'seis': 6,\n",
       " 'siete': 7,\n",
       " 'ocho': 8,\n",
       " 'nueve': 9,\n",
       " 'diez': 10}"
      ]
     },
     "execution_count": 14,
     "metadata": {},
     "output_type": "execute_result"
    }
   ],
   "source": [
    "# Creemos una diccionario que asigne los valors de los números a su nombre \n",
    "\n",
    "#Lista de nombres \n",
    "names = ['uno', 'dos', 'tres', 'cuatro', 'cinco','seis', 'siete', 'ocho', 'nueve', 'diez']\n",
    "\n",
    "#Asingnamos el nombre 'name' al valor i dentro de la tupla creada por zip\n",
    "{ name: i for name, i in zip(names, range(1, 11))} "
   ]
  },
  {
   "cell_type": "markdown",
   "metadata": {},
   "source": [
    "## 8. Estructurando el código \n",
    "\n",
    "Imaginemos que tenemos que hacer una cierta operación múltiples veces dentro de nuestro código o esta operación se realizará en algunos otros programas. Para ayudarnos a segmentar nuestro código, podemos usar funciones y módulos para simplificarnos la vida. \n",
    "\n",
    "### 8.1 Funciones \n",
    "Una función es un segmento de código dentro de nuestro programa al cual se llama para realizar una tarea sin tener que estar copiando el segmento de código siempre\n",
    "\n",
    "#### 8.1.1 Estructura de una función \n",
    "\n",
    "Siempre una función sera construida de la siguiente manera:\n",
    "\n",
    "$$\\textbf{def } \\text{nombre}(\\textit{parámetros}):$$\n",
    "$$ \\textit{Cuerpo de la función}$$\n",
    "$$ \\textbf{return } \\text{objeto}$$\n",
    "\n",
    "- **def** indica que estamos creando una función \n",
    "- **nombre** sera el nombre que usaremos para llamar la función más adelante nuestro código\n",
    "- **parámetros**  entradas necesarias para que nuestro código realice ciertas operaciones\n",
    "- **Cuerpo** Aquí se especifica que las acciones a realizar con los parámetros\n",
    "- **return** Devuelve el objeto que se indica para poder ser usado en nuestro código "
   ]
  },
  {
   "cell_type": "code",
   "execution_count": 68,
   "metadata": {},
   "outputs": [
    {
     "name": "stdout",
     "output_type": "stream",
     "text": [
      "Esto es una prueba\n",
      "Esto es una prueba\n"
     ]
    }
   ],
   "source": [
    "#Ejemplo 1: Definamos nuestra primera función: que solo imprima un texto al ser llamada\n",
    "def prueba():\n",
    "    print('Esto es una prueba')\n",
    "\n",
    "prueba()   \n",
    "prueba()   \n",
    "    "
   ]
  },
  {
   "cell_type": "code",
   "execution_count": 70,
   "metadata": {},
   "outputs": [
    {
     "name": "stdout",
     "output_type": "stream",
     "text": [
      "El área es igual a 12.566370616\n",
      "\n",
      "12.566370616\n"
     ]
    }
   ],
   "source": [
    "#Ejercicio 2: Función que calcula el área de un círculo al ingresar el radio de éste\n",
    "def area_cir(rad): \n",
    "    A=3.141592654*rad**2\n",
    "    print('El área es igual a '+str(A))\n",
    "    return A\n",
    "\n",
    "#Asignamos el valor a una variable \n",
    "K=area_cir(2)\n",
    "print()\n",
    "\n",
    "#Imprimimos el valor asignado a la variable\n",
    "print(K) "
   ]
  },
  {
   "cell_type": "markdown",
   "metadata": {},
   "source": [
    "### 8.2 Métodos\n",
    "\n",
    "Cada uno de los objetos creados poseen ciertas funciones propias dependiendo del tipo de \n",
    "\n",
    " ¿Como podemos saber cuales existen? Podemos escribir el **nombre del objeto.** y presionar la tecla tab \n",
    " \n",
    " Para mayor referencia: https://www.programiz.com/python-programming/methods/"
   ]
  },
  {
   "cell_type": "code",
   "execution_count": 1,
   "metadata": {},
   "outputs": [
    {
     "name": "stdout",
     "output_type": "stream",
     "text": [
      "A=[0, 1, 2, 3, 4, 5, 6, 7, 8, 9, 10]\n",
      "B=[9, 10, 11, 12, 13]\n",
      "\n",
      "A=[0, 1, 2, 3, 4, 5, 6, 7, 8, 9, 10, 5]\n",
      "\n",
      "A=[0, 1, 2, 3, 4, 5, 6, 7, 8, 9, 10, 5, 9, 10, 11, 12, 13]\n"
     ]
    }
   ],
   "source": [
    "A=list(range(11))\n",
    "B=list(range(9,14))\n",
    "print('A='+str(A))\n",
    "print('B='+str(B))\n",
    "print()\n",
    "\n",
    "# Agregar un elemento \n",
    "A.append(5)\n",
    "print('A='+str(A))\n",
    "print()\n",
    "\n",
    "# Agrega los elementos de B en A \n",
    "A.extend(B)\n",
    "print('A='+str(A))\n"
   ]
  },
  {
   "cell_type": "markdown",
   "metadata": {},
   "source": [
    "### 9 Paquetes\n",
    "\n",
    "Es un conjunto de módulos y funciones ya incluidas en Python con el fin de realizar operaciones sencillas y comunes. \n",
    "\n",
    "#### 9.1 Importando un paquete \n",
    "\n",
    "La importación de un paquete se realiza mediante el uso del comando **import**. Ciertos paquetes poseen nombres muy largos, por lo que suelen ser renombrados mediante el uso del complemento **as**: \n",
    "\n",
    "$$\\textbf{import }\\text{paquete }\\textbf{as }\\text{renobramiento}$$\n",
    "\n",
    "Dentro de los paquetes existen módulos o funciones espcíficas, a los cuales podemos acceder mediante el uso de la sintaxis **paquete.modulo()**\n",
    "\n",
    "\n",
    "### 9.2 Instalacion de paquetes \n",
    "\n",
    "Algunos paquetes no son incluidos directamente en la ditribución de Python por lo que debemos instarlas mediante el uso de herramientos de manejo de directorios como *pip* o *conda* \n",
    "\n",
    "- Usando *conda*, el propio sistema de manejo de la suite anaconda, en Anaconda prompt o terminal, dependiendo del caso, escribimos **conda install paquete 1 paquete 2 ...**. \n",
    "\n",
    "- Usando *pip*\n",
    "\n",
    "**Nota:** Cuando realicemos la instalación de un cierto paquete, debemos recordar instarlo en el ambiente que estemos utilizando para el proyecto. \n",
    "\n",
    "### 9.3 Paquetes importantes para la ciencia de Datos \n",
    "\n",
    "Aunque existen múltiples paquetes relacionados a una sección de la ciencia de datos, entre los más usados podemos mencionar \n",
    "\n",
    "\n",
    "1. **NumPy:** permite la integración de arreglos númericos de manera semenjante a MATLAB u Octave. Realmente es una manera de utilizar librerias de C, C++ y Fortran para realizar cálculos de manera rápida y eficiente. Información: http://www.numpy.org/\n",
    "\n",
    "\n",
    "2. **PyTorch**: es una de las librerias principales para el manejo de datos, aprendizaje automático, redes neuronales, ente otros. Represeta el peldaño de entrada para mucha gente sobre a estos temas por su simpleza. Información: https://pytorch.org/\n",
    "\n",
    "\n",
    "3. **SciPy:** Proporciona estadísticas, optimizaciones, integración y paquetes de álgebra lineal para computación. Se basa en el concepto NumPy para tratar problemas matemáticos complejos. Información: https://www.scipy.org/\n",
    "\n",
    "4. **Pandas:** Es una biblioteca de código abierto de Python para disponer de estructuras de datos de alto rendimiento y herramientas de análisis la cual se desarrolla sobre el paquete Numpy. Información: https://pandas.pydata.org/\n",
    "\n",
    "5. **SciKit-Learn:** Es una herramienta simple para el análisis de datos y tareas relacionadas con la minería. Es de código abierto y licenciado bajo el BSD. Información: https://scikit-learn.org/stable/\n",
    "\n",
    "6. **Matplotlib:** Esta biblioteca de gráficos 2D es muy famosa entre los científicos de datos por diseñar variedades de figuras en múltiples formatos que son compatible con múltiples plataformas. Información: https://matplotlib.org/\n",
    "\n",
    "7. **Bokeh:** Es una biblioteca de visualización más para diseñar gráficas más atractivas e interactivas. Información: https://bokeh.pydata.org/en/latest/\n",
    "\n",
    "8. **Tensorflow:** Esta biblioteca de código abierto fue diseñada por Google para calcular gráficos de datos bajos con los algoritmos de aprendizaje automático habilitados. Fue diseñado para satisfacer la alta demanda del trabajo de redes neuronales de capacitación. Información: https://www.tensorflow.org/\n",
    "\n"
   ]
  },
  {
   "cell_type": "markdown",
   "metadata": {},
   "source": [
    "## Material de práctica: \n",
    "\n",
    "1. Data Camp https://www.datacamp.com\n",
    "2. Python Scientific lecture notes (documento pdf incluido en la carpeta) "
   ]
  },
  {
   "cell_type": "code",
   "execution_count": null,
   "metadata": {},
   "outputs": [],
   "source": []
  }
 ],
 "metadata": {
  "kernelspec": {
   "display_name": "Python 3",
   "language": "python",
   "name": "python3"
  },
  "language_info": {
   "codemirror_mode": {
    "name": "ipython",
    "version": 3
   },
   "file_extension": ".py",
   "mimetype": "text/x-python",
   "name": "python",
   "nbconvert_exporter": "python",
   "pygments_lexer": "ipython3",
   "version": "3.7.1"
  }
 },
 "nbformat": 4,
 "nbformat_minor": 2
}
