{
 "cells": [
  {
   "cell_type": "code",
   "execution_count": 90,
   "metadata": {},
   "outputs": [],
   "source": [
    "# Cargamos el archivo de Texto\n",
    "Archivo=open('8800.txt')"
   ]
  },
  {
   "cell_type": "code",
   "execution_count": 91,
   "metadata": {},
   "outputs": [
    {
     "name": "stdout",
     "output_type": "stream",
     "text": [
      "Project Gutenberg's The Divine Comedy, Complete, by Dante Alighieri\n",
      "\n",
      "This eBook is for the use of anyone anywhere at no cost and with\n",
      "almost no restrictions whatsoever.  You may copy it, give it away or\n",
      "re-use it under the terms of the Project Gutenberg License included\n",
      "with this eBook or online at www.gutenberg.org\n",
      "\n",
      "\n",
      "Title: The Divine Comedy, Complete\n",
      "       The Vision of Paradise, Purgatory and Hell\n",
      "\n",
      "Author: Dante Alighieri\n",
      "\n",
      "Illustrator: Gustave Dore\n",
      "\n",
      "Translator: Rev. H. F. Cary\n",
      "\n",
      "Release Date: September, 2005  [Etext #8800]\n",
      "Posting Date: June 11, 2009\n",
      "\n",
      "Language: English\n",
      "\n",
      "Character set encoding: ASCII\n",
      "\n",
      "*** START OF THIS PROJECT GUTENBERG EBOOK THE DIVINE COMEDY, COMPLETE ***\n",
      "\n",
      "\n",
      "\n",
      "\n",
      "Produced by David Widger\n",
      "\n",
      "\n",
      "\n",
      "\n",
      "\n",
      "THE DIVINE COMEDY\n",
      "\n",
      "\n",
      "THE VISION\n",
      "\n",
      "OF\n",
      "\n",
      "HELL, PURGATORY, AND PARADISE\n",
      "\n",
      "BY\n",
      "\n",
      "DANTE ALIGHIERI\n",
      "\n",
      "\n",
      "\n",
      "\n",
      "\n",
      "\n",
      "PARADISE\n",
      "\n",
      "Complete\n",
      "\n",
      "\n",
      "\n",
      "TRANSLATED BY\n",
      "\n",
      "THE REV. H. F. CARY, M.A.\n",
      "\n",
      "\n",
      "\n",
      "PARADISE\n",
      "\n",
      "\n",
      "\n",
      "LIST OF CANTOS\n",
      "Canto 1\n",
      "Canto 2\n",
      "Canto 3\n",
      "Canto 4\n",
      "Canto 5\n",
      "Canto 6\n",
      "Canto 7\n",
      "Canto 8\n",
      "Canto 9\n",
      "Canto 10\n",
      "Canto 11\n",
      "Canto 12\n",
      "Canto 13\n",
      "Canto 14\n",
      "Canto 15\n",
      "Canto 16\n",
      "Canto 17\n",
      "Canto 18\n",
      "Canto 19\n",
      "Canto 20\n",
      "Canto 21\n",
      "Canto 22\n",
      "Canto 23\n",
      "Canto 24\n",
      "Canto 25\n",
      "Canto 26\n",
      "Canto 27\n",
      "Canto 28\n",
      "Canto 29\n",
      "Canto 30\n",
      "Canto 31\n",
      "Canto 32\n",
      "Canto 33\n",
      "\n",
      "\n",
      "\n",
      "\n",
      "CANTO I\n",
      "\n",
      "His glory, by whose might all things are mov'd,\n",
      "Pierces the universe, and in one part\n",
      "Sheds more resplendence, elsewhere less.  In heav'n,\n",
      "That largeliest of his light partakes, was I,\n",
      "Witness of things, which to relate again\n",
      "Surpasseth power of him who comes from thence;\n",
      "For that, so near approaching its desire\n",
      "Our intellect is to such depth absorb'd,\n",
      "That memory cannot follow.  Nathless all,\n",
      "That in my thoughts I of that sacred realm\n",
      "Could store, shall now be matter of my song.\n",
      "\n",
      "Benign Apollo! this last labour aid,\n",
      "And make me such a vessel of thy worth,\n",
      "As thy own laurel claims of me belov'd.\n",
      "Thus far hath one of steep Parnassus' brows\n",
      "Suffic'd me; henceforth there is need of both\n",
      "For my remaining enterprise Do thou\n",
      "Enter into my bosom, and there breathe\n",
      "So, as when Marsyas by thy hand was dragg'd\n",
      "Forth from his limbs unsheath'd.  O power divine!\n",
      "If thou to me of shine impart so much,\n",
      "That of that happy realm the shadow'd form\n",
      "Trac'd in my thoughts I may set forth to view,\n",
      "Thou shalt behold me of thy favour'd tree\n",
      "Come to the foot, and crown myself with leaves;\n",
      "For to that honour thou, and my high theme\n",
      "Will fit me.  If but seldom, mighty Sire!\n",
      "To grace his triumph gathers thence a wreath\n",
      "Caesar or bard (more shame for human wills\n",
      "Deprav'd) joy to the Delphic god must spring\n",
      "From the Pierian foliage, when one breast\n",
      "Is with such thirst inspir'd.  From a small spark\n",
      "Great flame hath risen: after me perchance\n",
      "Others with better voice may pray, and gain\n",
      "From the Cirrhaean city answer kind.\n",
      "\n",
      "Through diver passages, the world's bright lamp\n",
      "Rises to mortals, but through that which joins\n",
      "Four circles with the threefold cross, in best\n",
      "Course, and in happiest constellation set\n",
      "He comes, and to the worldly wax best gives\n",
      "Its temper and impression.  Morning there,\n",
      "Here eve was by almost such passage made;\n",
      "And whiteness had o'erspread that hemisphere,\n",
      "Blackness the other part; when to the left\n",
      "I saw Beatrice turn'd, and on the sun\n",
      "Gazing, as never eagle fix'd his ken.\n",
      "As from the first a second beam is wont\n",
      "To issue, and reflected upwards rise,\n",
      "E'en as a pilgrim bent on his return,\n",
      "So of her act, that through the eyesight pass'd\n",
      "Into my fancy, mine was form'd; and straight,\n",
      "Beyond our mortal wont, I fix'd mine eyes\n",
      "Upon the sun.  Much is allowed us there,\n",
      "That here exceeds our pow'r; thanks to the place\n",
      "Made for the dwelling of the human kind\n",
      "\n",
      "I suffer'd it not long, and yet so long\n",
      "That I beheld it bick'ring sparks around,\n",
      "As iron that comes boiling from the fire.\n",
      "And suddenly upon the day appear'd\n",
      "A day new-ris'n, as he, who hath the power,\n",
      "Had with another sun bedeck'd the sky.\n",
      "\n",
      "Her eyes fast fix'd on the eternal wheels,\n",
      "Beatrice stood unmov'd; and I with ken\n",
      "Fix'd upon her, from upward gaze remov'd\n",
      "At her aspect, such inwardly became\n",
      "As Glaucus, when he tasted of the herb,\n",
      "That made him peer among the ocean gods;\n",
      "Words may not tell of that transhuman change:\n",
      "And therefore let the example serve, though weak,\n",
      "For those whom grace hath better proof in store\n",
      "\n",
      "If I were only what thou didst create,\n",
      "Then newly, Love! by whom the heav'n is rul'd,\n",
      "Thou know'st, who by thy light didst bear me up.\n",
      "Whenas the wheel which thou dost ever guide,\n",
      "Desired Spirit! with its harmony\n",
      "Temper'd of thee and measur'd, charm'd mine ear,\n",
      "Then seem'd to me so much of heav'n to blaze\n",
      "With the sun's flame, that rain or flood ne'er made\n",
      "A lake so broad.  The newness of the sound,\n",
      "And that great light, inflam'd me with desire,\n",
      "Keener than e'er was felt, to know their cause.\n",
      "\n",
      "Whence she who saw me, clearly as myself,\n",
      "To calm my troubled mind, before I ask'd,\n",
      "Open'd her lips, and gracious thus began:\n",
      "\"With false imagination thou thyself\n",
      "Mak'st dull, so that thou seest not the thing,\n",
      "Which thou hadst seen, had that been shaken off.\n",
      "Thou art not on the earth as th\n"
     ]
    }
   ],
   "source": [
    "# Leemos los primeros caracteres e imprimmos el texto\n",
    "N=5000\n",
    "A=Archivo.read(N)\n",
    "print(A)"
   ]
  },
  {
   "cell_type": "code",
   "execution_count": 170,
   "metadata": {},
   "outputs": [
    {
     "data": {
      "text/plain": [
       "896"
      ]
     },
     "execution_count": 170,
     "metadata": {},
     "output_type": "execute_result"
    }
   ],
   "source": [
    "# Separamos en palabras \n",
    "ListaA=A.split()\n",
    "# print(ListaA)\n",
    "len(ListaA)"
   ]
  },
  {
   "cell_type": "code",
   "execution_count": 171,
   "metadata": {},
   "outputs": [
    {
     "data": {
      "text/plain": [
       "563"
      ]
     },
     "execution_count": 171,
     "metadata": {},
     "output_type": "execute_result"
    }
   ],
   "source": [
    "# Generamos el conjunto de palabras elegidas (eliminamos las repetidas)\n",
    "UnicasC=set(ListaA)\n",
    "# print(UnicasC)\n",
    "len(UnicasC)"
   ]
  },
  {
   "cell_type": "code",
   "execution_count": 212,
   "metadata": {},
   "outputs": [
    {
     "name": "stdout",
     "output_type": "stream",
     "text": [
      "896\n",
      "\n",
      "515\n"
     ]
    }
   ],
   "source": [
    "# Pasamos el texto a minusculas\n",
    "Amin=A.lower()\n",
    "alista=Amin.split()\n",
    "unicasc=list(set(alista))\n",
    "print(len(alista))\n",
    "print()\n",
    "print(len(unicasc))"
   ]
  },
  {
   "cell_type": "code",
   "execution_count": 128,
   "metadata": {},
   "outputs": [
    {
     "data": {
      "text/plain": [
       "43"
      ]
     },
     "execution_count": 128,
     "metadata": {},
     "output_type": "execute_result"
    }
   ],
   "source": [
    "# Suma de todos las apariciones de la palabra de \"The\"\n",
    "sum([alista[i] =='the' for i in range(len(alista))])"
   ]
  },
  {
   "cell_type": "code",
   "execution_count": 112,
   "metadata": {},
   "outputs": [],
   "source": [
    "Conteo=[]\n",
    "for j in range(len(unicasc)):\n",
    "    a=sum([alista[i] ==unicasc[j] for i in range(len(alista))])\n",
    "    Conteo.append(a)\n",
    "len(Conteo)"
   ]
  },
  {
   "cell_type": "code",
   "execution_count": 221,
   "metadata": {},
   "outputs": [
    {
     "data": {
      "text/plain": [
       "515"
      ]
     },
     "execution_count": 221,
     "metadata": {},
     "output_type": "execute_result"
    }
   ],
   "source": [
    "Conteo2=[]\n",
    "for j in range(len(unicasc)):\n",
    "    Conteo2.append(alista.count(unicasc[j]))\n",
    "len(Conteo)"
   ]
  },
  {
   "cell_type": "code",
   "execution_count": 119,
   "metadata": {},
   "outputs": [],
   "source": [
    "#Creación del diccionario \n",
    "Palabras={unicasc[i]: Conteo[i] for i in range(len(unicasc))}"
   ]
  },
  {
   "cell_type": "code",
   "execution_count": 120,
   "metadata": {},
   "outputs": [
    {
     "data": {
      "text/plain": [
       "43"
      ]
     },
     "execution_count": 120,
     "metadata": {},
     "output_type": "execute_result"
    }
   ],
   "source": [
    "# Verificación con la palabra 'the'\n",
    "Palabras['the']"
   ]
  },
  {
   "cell_type": "code",
   "execution_count": 162,
   "metadata": {},
   "outputs": [
    {
     "name": "stdout",
     "output_type": "stream",
     "text": [
      "8\n",
      "1\n",
      "1\n"
     ]
    }
   ],
   "source": [
    "# Exiten problemas con los signos de puntuacion\n",
    "print(Palabras['me'])\n",
    "print(Palabras['me,'])\n",
    "print(Palabras['me;'])"
   ]
  },
  {
   "cell_type": "code",
   "execution_count": 215,
   "metadata": {},
   "outputs": [],
   "source": [
    "## En la lista original de palabras en minusculas, eliminar los signos de puntuacion\n",
    "for n in range(len(alista)):\n",
    "    if ',' in alista[n] or ';' in alista[n] or ':' in alista[n] or ')' in alista[n] or '!' in alista[n] or '?' in alista[n] :\n",
    "        alista[n]=alista[n][:-1]\n",
    "    elif '.' in alista[n]:\n",
    "        if alista[n].index('.')==len(alista[n])-1:\n",
    "            alista[n]=alista[n][:-1]\n",
    "    elif '(' in alista[n]:\n",
    "        alista[n]=alista[n][1:]\n",
    "        "
   ]
  },
  {
   "cell_type": "code",
   "execution_count": 209,
   "metadata": {},
   "outputs": [
    {
     "data": {
      "text/plain": [
       "476"
      ]
     },
     "execution_count": 209,
     "metadata": {},
     "output_type": "execute_result"
    }
   ],
   "source": [
    "#Conteo de nuevas palabras únicas! \n",
    "len(list(set(alista)))"
   ]
  },
  {
   "cell_type": "code",
   "execution_count": 216,
   "metadata": {},
   "outputs": [
    {
     "data": {
      "text/plain": [
       "11"
      ]
     },
     "execution_count": 216,
     "metadata": {},
     "output_type": "execute_result"
    }
   ],
   "source": [
    "alista.count('me')"
   ]
  },
  {
   "cell_type": "code",
   "execution_count": null,
   "metadata": {},
   "outputs": [],
   "source": []
  },
  {
   "cell_type": "code",
   "execution_count": null,
   "metadata": {},
   "outputs": [],
   "source": []
  },
  {
   "cell_type": "code",
   "execution_count": null,
   "metadata": {},
   "outputs": [],
   "source": []
  },
  {
   "cell_type": "code",
   "execution_count": null,
   "metadata": {},
   "outputs": [],
   "source": []
  },
  {
   "cell_type": "code",
   "execution_count": null,
   "metadata": {},
   "outputs": [],
   "source": []
  }
 ],
 "metadata": {
  "kernelspec": {
   "display_name": "Python 3",
   "language": "python",
   "name": "python3"
  },
  "language_info": {
   "codemirror_mode": {
    "name": "ipython",
    "version": 3
   },
   "file_extension": ".py",
   "mimetype": "text/x-python",
   "name": "python",
   "nbconvert_exporter": "python",
   "pygments_lexer": "ipython3",
   "version": "3.7.1"
  }
 },
 "nbformat": 4,
 "nbformat_minor": 2
}
