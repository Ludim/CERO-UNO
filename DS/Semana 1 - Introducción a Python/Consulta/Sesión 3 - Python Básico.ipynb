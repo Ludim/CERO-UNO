{
 "cells": [
  {
   "cell_type": "markdown",
   "metadata": {},
   "source": [
    "# ¡Bienvenidos a la tercera sesión del Mastery Data Science!\n",
    "\n",
    "Ya aprendimos lo necesario y es hora de practicar lo aprendido. \n",
    "\n",
    "## Estructura del día \n",
    "\n",
    "### Primera sesión: 10:00 - 12:00\n",
    "\n",
    "Trabajemos en la sección de ejercicios. No tienen que hacer todos en este tiempo, pero les servirá para resolver dudas que posiblemente les ayuden en la siguiente sección. El documento a trabajar esta en la otra carpeta.\n",
    "\n",
    "### Segunda parte: 12:00 - 15:40 (incluyendo la hora de la comida) \n",
    "\n",
    "Se les presenta un ejercicio de aplicación donde sólo apliquen los comandos básico de Python.\n",
    "\n",
    "### Cierre\n",
    "\n",
    "- Contesta la encuesta en la siguiente liga, nos ayudará a mejorar mucho como el curso y como equipo: http://bit.ly/0919datascience\n",
    "\n",
    "- ¿Comentarios sobre la primer semana?\n",
    "\n",
    "**Nota:** ¡recuerden cargar su ambiente!"
   ]
  },
  {
   "cell_type": "markdown",
   "metadata": {},
   "source": [
    "# Proyecto - La Divina comedia\n",
    "## 1. Antes de empezar\n",
    "- Planea tu código: Antes de escribir código debemos sentarnos, pensar que hacer, hacer un plan (se le llama pseudocódigo) y luego ya tienes permiso de escribir código. \n",
    "- ¿No se que hacer? Google it! Seguramente en internet tiene seguramente las respuesta\n",
    "- Divide y conquistaras: trabaja segmentando el código en celdas y revisa que cada acción importante se realice la manera correcta\n",
    "- Si crees que usaras recurrentemente la sección de código que hace algo, sería conveniente hacer una función ¿no?\n",
    "- \n",
    "\n",
    "\n",
    "## 2. Descripción \n",
    "\n",
    "Para este ejemplo usaremos del texto en ingles de *La Divina Comedia* escrita por Dante Alighieri y fue descargado desde *Project Gutenberg* con nombre **8800.txt**. Existen muchas maneras de realizar este ejercicio, no te preocupes por lo que hacen los demas. Realiza mediante comandos, no uses funciones hasta que se te pida. \n",
    "\n",
    "\n",
    "**Preguntas**\n",
    "\n",
    "\n",
    "- ¿Cuántas palabras existen en los primeros 5,000 caracteres? \n",
    "- ¿Cuántas palabras únicas existen en el mismo rango? \n",
    "- ¿Importan las mayúsculas y minúsculas? \n",
    "- ¿Cuántas veces aparece la palabra **the** en ese rango? \n",
    "- ¿Puedo saber cuantas veces existe una palabra en el texto cargado? \n",
    "- Crea un diccionario donde asignes el número de apariciones a la palabra existente\n",
    "- ¿Qué pasa con los signos de puntuación, es decir, 'me', 'me;', 'me.', 'me?' y 'me,' son iguales? \n",
    "    - ¿Cuáles existen? ¿Estan todos en la misma posición? \n",
    "- Elimina los signos de puntuación y realiza el mismo ejercicio \n",
    "\n",
    "\n",
    "Ahora crea funciones para realizar las mismas preguntas y usalas para analizar el texto completo (todo un reto). \n",
    "\n",
    "## 3. Comparación de resultados y métodos\n",
    "\n",
    "¡Comparemos la lógica de sus códigos! Nadie piensa igual y la diversidad nos permite encontrar mejores soluciones mediante el diálogo. \n"
   ]
  },
  {
   "cell_type": "markdown",
   "metadata": {},
   "source": [
    "## 4. ¿Quieren más? - Recursos de apoyo \n",
    "\n",
    "- Platarformas: EDX, Coursera, Udemy, DataCamp\n",
    "- Empresas: IBM, Microsoft\n",
    "- Millones de páginas web \n",
    "- Cientos de libros (como los que ya les pasamos) "
   ]
  },
  {
   "cell_type": "code",
   "execution_count": null,
   "metadata": {},
   "outputs": [],
   "source": []
  }
 ],
 "metadata": {
  "kernelspec": {
   "display_name": "Python 3",
   "language": "python",
   "name": "python3"
  },
  "language_info": {
   "codemirror_mode": {
    "name": "ipython",
    "version": 3
   },
   "file_extension": ".py",
   "mimetype": "text/x-python",
   "name": "python",
   "nbconvert_exporter": "python",
   "pygments_lexer": "ipython3",
   "version": "3.7.1"
  }
 },
 "nbformat": 4,
 "nbformat_minor": 2
}
