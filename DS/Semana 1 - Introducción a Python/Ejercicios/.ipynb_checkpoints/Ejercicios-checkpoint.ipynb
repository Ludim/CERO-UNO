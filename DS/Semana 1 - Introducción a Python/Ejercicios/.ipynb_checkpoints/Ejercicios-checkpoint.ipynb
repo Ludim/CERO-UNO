{
 "cells": [
  {
   "cell_type": "markdown",
   "metadata": {},
   "source": [
    "# Ejercicios de la primera semana\n",
    "\n",
    "A continuación se muestran algunos ejercicios sobre los temas de la semana: \n",
    "\n",
    "\n",
    "#### 1. Calcula el número $\\pi$ usando la fórmula\n",
    "\n",
    "$$\\pi=2\\prod_{i=1}^{\\infty}\\frac{4 i^2 }{4i^2-1 }$$\n",
    "\n",
    "\n",
    "\n"
   ]
  },
  {
   "cell_type": "code",
   "execution_count": null,
   "metadata": {},
   "outputs": [],
   "source": []
  },
  {
   "cell_type": "markdown",
   "metadata": {},
   "source": [
    "#### 2. Calcula las primeras 10 potencias de 2 ($2^n$). Guarda los valores para cada uno de los exponentes y regresa la suma como valor.\n"
   ]
  },
  {
   "cell_type": "code",
   "execution_count": null,
   "metadata": {},
   "outputs": [],
   "source": []
  },
  {
   "cell_type": "markdown",
   "metadata": {},
   "source": [
    "#### 3. Obtener los primeros 10 numeros pares "
   ]
  },
  {
   "cell_type": "code",
   "execution_count": null,
   "metadata": {},
   "outputs": [],
   "source": []
  },
  {
   "cell_type": "markdown",
   "metadata": {},
   "source": [
    "\n",
    "#### 4. Escriba una función que nos permita calcular la suma de los cuadrados de dos números\n"
   ]
  },
  {
   "cell_type": "code",
   "execution_count": null,
   "metadata": {},
   "outputs": [],
   "source": []
  },
  {
   "cell_type": "markdown",
   "metadata": {},
   "source": [
    "#### 5. Escriba una función que calcule, guarde en una lista y muestre los elementos de la secuencia de Fibonacci"
   ]
  },
  {
   "cell_type": "code",
   "execution_count": null,
   "metadata": {},
   "outputs": [],
   "source": []
  },
  {
   "cell_type": "markdown",
   "metadata": {},
   "source": [
    "#### 6. Crear una función que reciba un parámetro númerico e imprima el nombre de una fruta:  *Naranjas* si el parámetro es igual a 0, *Manzanas* si el parámetro es igual a 1 y *Peras* si el paráemtro es igual a 2 "
   ]
  },
  {
   "cell_type": "code",
   "execution_count": null,
   "metadata": {},
   "outputs": [],
   "source": []
  },
  {
   "cell_type": "markdown",
   "metadata": {},
   "source": [
    "#### 7. Crear una función la función error: imprima un mensaje que notifique al usuario si existe un error\n"
   ]
  },
  {
   "cell_type": "code",
   "execution_count": null,
   "metadata": {},
   "outputs": [],
   "source": []
  },
  {
   "cell_type": "markdown",
   "metadata": {},
   "source": [
    "#### 8. Definamos la función matemática del valor absoluto de un número:  Si el número de entrada es negativo, devolver el valor e imprimir un mensaje semejante a \"El valor absoluto es:\". Si no, devolver el valor del número introducido e imprimir el mismo mensaje\n",
    "   "
   ]
  },
  {
   "cell_type": "code",
   "execution_count": null,
   "metadata": {},
   "outputs": [],
   "source": []
  },
  {
   "cell_type": "markdown",
   "metadata": {},
   "source": [
    "#### 9.Defininir una función que realice el cambio del valor de dos variables: el valor de la primera se otorga a la segunda y viceversa. \n",
    "\n",
    "\n"
   ]
  },
  {
   "cell_type": "code",
   "execution_count": null,
   "metadata": {},
   "outputs": [],
   "source": []
  },
  {
   "cell_type": "markdown",
   "metadata": {},
   "source": [
    "#### 10. Cree un programa que le pida al usuario que ingrese su nombre y su edad. Imprima un mensaje dirigido a ellos que les diga el año en que cumplirán 100 años."
   ]
  },
  {
   "cell_type": "code",
   "execution_count": null,
   "metadata": {},
   "outputs": [],
   "source": []
  },
  {
   "cell_type": "markdown",
   "metadata": {},
   "source": [
    "#### 11. Pregunte al usuario por un número. Dependiendo de si el número es par o impar, imprima un mensaje apropiado para el usuario.\n",
    "\n"
   ]
  },
  {
   "cell_type": "code",
   "execution_count": null,
   "metadata": {},
   "outputs": [],
   "source": []
  },
  {
   "cell_type": "markdown",
   "metadata": {},
   "source": [
    "#### 12. Escriba una función que reciba una lista  como parámetro y devuelva una nueva lista que contenga todos los elementos de la primera lista menos todos los duplicados.\n"
   ]
  },
  {
   "cell_type": "code",
   "execution_count": null,
   "metadata": {},
   "outputs": [],
   "source": []
  },
  {
   "cell_type": "markdown",
   "metadata": {},
   "source": [
    "#### 13. Haz un juego de dos jugadores de piedra, papel y tijera, Dada una función de dos entradas, compáralas, imprime un mensaje de felicitaciones al ganador."
   ]
  },
  {
   "cell_type": "code",
   "execution_count": null,
   "metadata": {},
   "outputs": [],
   "source": [
    " \n",
    "    "
   ]
  },
  {
   "cell_type": "markdown",
   "metadata": {},
   "source": [
    "\n",
    "#### 14. Similar al ejercicio pasado, haz un juego de piedra papel y tijeras. "
   ]
  }
 ],
 "metadata": {
  "kernelspec": {
   "display_name": "Python 3",
   "language": "python",
   "name": "python3"
  },
  "language_info": {
   "codemirror_mode": {
    "name": "ipython",
    "version": 3
   },
   "file_extension": ".py",
   "mimetype": "text/x-python",
   "name": "python",
   "nbconvert_exporter": "python",
   "pygments_lexer": "ipython3",
   "version": "3.7.1"
  }
 },
 "nbformat": 4,
 "nbformat_minor": 2
}
